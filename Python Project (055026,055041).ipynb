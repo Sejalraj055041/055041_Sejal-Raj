{
 "cells": [
  {
   "cell_type": "markdown",
   "id": "fba5e1aa-1d21-46de-8cc4-03e814ebdf3a",
   "metadata": {},
   "source": [
    "# **Project Report on Imports and Exports Data Analysis**"
   ]
  },
  {
   "cell_type": "markdown",
   "id": "9cb4a83e-956b-4463-a9c3-6ae1ba937b9b",
   "metadata": {},
   "source": [
    "## **Project Information**\n",
    "### * **Project Title**: Comprehensive Data Analysis of Imports and Exports Dataset\n",
    "### * **Student Name**: Navneet Mittal, Sejal Raj\n",
    "### * **Enrollment Number** : 055026 , 055041\n",
    "### * **Project Information** : This project contains a detailed dataset and analysis of international trade transactions, providing extensive information on both imports and exports. Designed for use in business analytics, economic research, and financial modeling, it offers a broad view of trade activities with numerous attributes that capture various dimensions of each transaction."
   ]
  },
  {
   "cell_type": "markdown",
   "id": "346c317c-ba26-4eb5-baac-63e11d438999",
   "metadata": {},
   "source": [
    "# Description of Data**\n",
    "\n",
    "* **1.Data Source & Size:**\n",
    "\n",
    "* Source: The dataset for this project was obtained from Kaggle.(https://www.kaggle.com/datasets/chakilamvishwas/imports-exports-15000)\n",
    "* Size: 15,000 records with 16 variables. (2.69 MB)\n",
    "  \n",
    "  \n",
    "* **2. Data Type:**\n",
    "This is a Cross-sectional dataset, capturing transactional data at a specific point in time.\n",
    "\n",
    "\n",
    "  **3.Data Dimension:**\n",
    "\n",
    "* Number of Variables: 16\n",
    "* Number of Observations: 15,000\n",
    "  \n",
    "  \n",
    "* **4.Data Variable Type:**\n",
    "\n",
    "* Text Variables:\n",
    "Transaction_ID, Country, Product, Import_Export, Date, Category, Port, Shipping_Method, Supplier, Customer, Payment_Terms\n",
    "* Number Variables:\n",
    "Integer: Quantity, Customs_Code, Invoice_Number\n",
    "* Decimal: Value, Weight\n",
    "\n",
    "\n",
    "* **5.Data Variable Category : Identifying Categorical (Nominal & Ordinal) and Non - Categorical Data**\n",
    "\n",
    "|Sr. No. | Data Variable | Category |\n",
    "| --- | --- | --- |\n",
    "| 1. | Transaction ID | Index (used for identifying each transaction)\n",
    "| 2. | Country | Categorical {Nominal}\n",
    "| 3. | Product | Categorical {Nominal}\n",
    "| 4. | Import Export | Categorical {Nominal}\n",
    "| 5. | Quantity | Non-Categorical\n",
    "| 6. | Value | Non-Categorical\n",
    "| 7. | Category | Categorical {Nominal}\n",
    "| 8. | Port | Categorical {Nominal}\n",
    "| 9.| Customs Code | Non-Categorical\n",
    "| 10.| Weight | Non-Categorical\n",
    "| 11.| Shipping Method | Categorical {Nominal} \n",
    "| 12.| Supplier | Categorical {Nominal} \n",
    "| 13.| Customer | Categorical {Nominal} \n",
    "| 14.| Invoice Number | Index (used for identifying each transaction)\n",
    "| 15.| Payment Terms | Categorical {Nominal}"
   ]
  },
  {
   "cell_type": "markdown",
   "id": "73e09303-31ea-44cc-a9be-cb4f564219db",
   "metadata": {},
   "source": [
    "# Project Objectives | Problem Statements\n",
    "\n",
    "* Objective 1: Identify key trends in import and export activities across different countries and product categories.\n",
    "* Objective 2: Understand the distribution of transaction values and quantities across various categories.\n",
    "* Objective 3: Analyze the most frequently used shipping methods and their relationship to transaction value and weight.\n",
    "* Objective 4: Find the minimum and maximum value of each variable.\n",
    "* Objective 5: Finding Average order value  and quantity per country \n",
    "* Objective 6: Finding Maximum Weight in KGs by Shipping Method and Category\n",
    "* Objective 7: Finding Count of products by their payment terms per Category\n",
    "* Objective 8: Ranking categories by the total economic impact (Value), higher value gets a higher rank\n",
    "  \n",
    "* Problem Statement 1: How do different countries vary in terms of the volume and value of imports and exports?\n",
    "* Problem Statement 2: Are there specific product categories that dominate in terms of trade volume and value?\n",
    "* Problem Statement 3: What are the most commonly used shipping methods for high-value transactions?\n",
    "* Problem Statemnet 4: Identify the range of values and outliers in the dataset\n",
    "* Problem Statemnet 5: Identify comparison of different countries in terms of purchasing behavior, helping to tailor marketing                        strategies or identify high-value markets.\n",
    "* Problem Statemnet 6: Assess which shipping methods are handling heavier products and which categories have the largest or                           heaviest product.\n",
    "* Problem Statemnet 7: Give insights into the preferred payment terms by category and can help in optimizing payment options                          for different product lines.\n",
    "* Problem Statemnet 8: Rank product categories based on their total economic impact. The categories with the highest total                            economic impact should be given the highest rank. "
   ]
  },
  {
   "cell_type": "markdown",
   "id": "9dc8fec8-36a1-4006-a13e-e1602583643d",
   "metadata": {},
   "source": [
    "# Analysis:\n",
    "**Positive Linear Relationship**: The positive coefficient for the linear term suggests that, in general, higher quantities are associated with higher values. This is intuitive, as larger quantities often correspond to larger transaction values.\n",
    "\n",
    "**Diminishing Returns**: The negative quadratic term suggests a diminishing return effect. As the quantity increases further, the rate of increase in value slows down. This could be due to various factors such as bulk discounts or diminishing marginal returns in pricing or value.\n",
    "\n",
    "**Model Fit**: The coefficients indicate a polynomial relationship that fits the data from the top 5 countries. However, further evaluation (e.g., R-squared value or residual analysis) is needed to assess the model’s goodness-of-fit and ensure that it adequately captures the relationship.\n"
   ]
  },
  {
   "cell_type": "markdown",
   "id": "c41228b0-17d5-452b-b046-e91edafb9834",
   "metadata": {},
   "source": [
    "# Observations | Findings\n",
    "\n",
    "#### Import/Export Trends: \n",
    "\n",
    "Significant variation was observed across countries in terms of both volume and value of imports and exports. Some countries focus more on exports while others have higher import activities, potentially highlighting trade imbalances or specialization in certain industries.\n",
    "\n",
    "#### Dominant Product Categories: \n",
    "\n",
    "Certain product categories showed a high volume and value of transactions. These categories potentially drive the bulk of trade in the dataset.\n",
    "\n",
    "#### Minimum and Maximum variables :\n",
    "\n",
    "| Minimum | |\n",
    "| Country | Afghanistan |\n",
    "| Product | American |\n",
    "| Import_Export | Export |\n",
    "| Category | Clothing |\n",
    "| Port | Aaronborough |\n",
    "| Shipping_Method | Air |\n",
    "| Supplier | Abbott LLC |\n",
    "| Customer | Aaron Barnes |\n",
    "| Payment_Terms | Cash on Delivery |\n",
    "\n",
    "\n",
    "| Maximum | |\n",
    "| Country | Zimbabwe |\n",
    "| Product | yourself |\n",
    "| Import_Export | Import |\n",
    "| Category | Toys |\n",
    "| Port | Zoeton |\n",
    "| Shipping_Method | Sea |\n",
    "| Supplier | Zuniga, Schwartz and Butler |\n",
    "| Customer | Zoe Ferguson |\n",
    "| Payment_Terms | Prepaid |\n",
    "#### Shipping Methods: \n",
    "The most frequently used shipping methods were identified. High-value transactions often used faster and more secure shipping options, while lower-value transactions relied on slower, cost-effective methods.\n",
    "\n",
    "#### Finding Average order value and quantity per country\n",
    "\n",
    "- The French Polynesia have the highest average transaction value among the top 5 countries. This indicates that the country deals with high-value goods in each transaction.\n",
    "- Cook Island has the second-highest average transaction value. The high quantity might be due to bulk imports or exports, as Antarctic logistics usually involve large consignments.\n",
    "- Honduras’s average quantity is relatively high, but the value is lower compared to other countries on the list. This suggests that Norway may engage in low-value goods that require large volumes.\n",
    "- Jordan’s average transaction value is also high, but with a lower quantity compared to other countries. This pattern could indicate trade in niche, high-value goods or materials.\n",
    "- Lebanon’s average value and quantity suggest a balanced trade, where both value and volume are significant.\n",
    "\n",
    "#### Finding Maximum Weight in KGs by Shipping Method and Category\n",
    "\n",
    "- Clothing: The maximum weight for clothing is consistently around 4880-5000 kgs, regardless of the shipping method.\n",
    "- Electronics: Electronics also have a consistent maximum weight range of 4920-5000 kgs across different methods.\n",
    "- Furniture: Furniture shows a slight variation, with the highest maximum weight being slightly lower for land shipping (4932.57 kgs) compared to air and sea (around 4980-4990 kgs).\n",
    "- Machinery: Machinery has the highest maximum weight for sea shipping (4983.09 kgs), while land and air shipping have similar maximum weights around 4940-4970 kgs.\n",
    "- Toys: Toys have a consistent maximum weight of around 4980-5000 kgs across all shipping methods.\n",
    "\n",
    "#### Finding Count of products by their payment terms per Category\n",
    "\n",
    "- Cash on Delivery (COD) and Net 30 are the dominant payment terms across all categories, suggesting they are the most preferred or accepted options in this context.\n",
    "- Net 60 and Prepaid are less frequently used, possibly due to factors like credit risk, cash flow concerns, or supplier preferences.\n",
    "\n",
    "#### Ranking categories by the total economic impact (Value), higher value gets a higher rank\n",
    "\n",
    "Furniture is the category with the highest total economic impact, followed by Machinery, Toys, Clothing, and Electronics.\n",
    "\n",
    "The economic impact varies significantly across categories.\n"
   ]
  },
  {
   "cell_type": "markdown",
   "id": "7fee1344-3038-4476-823e-6785bfcff890",
   "metadata": {},
   "source": [
    "# Managerial Insights\n",
    "\n",
    "\n",
    "### 1. **Trade Imbalances and Specialization:**\n",
    "   - **Import vs. Export Focus:** Countries with a higher focus on exports (like the French Polynesia) may be specializing in producing certain high-value goods, while those with higher imports (e.g., Afganistan) might depend on external markets to meet their domestic demand. This can highlight potential trade imbalances and areas where countries need to either diversify their production or focus on key export-driven industries.\n",
    "   - **Managerial Insight:** Countries with more exports can be seen as strategic partners for sourcing, while countries with more imports present potential opportunities for market entry and expansion for companies seeking to grow in new markets.\n",
    "\n",
    "### 2. **Product Category Dominance:**\n",
    "   - **Economic Impact of Categories:** Categories such as furniture, machinery, and toys drive the bulk of the trade. The high-value products within these categories indicate a need for specialized supply chains, logistics, and marketing strategies focused on their unique characteristics.\n",
    "   - **Managerial Insight:** Businesses in these dominant product categories should invest in improving the efficiency of their logistics and distribution channels to maintain competitiveness. Additionally, these categories could signal industry trends that managers should keep an eye on for future investments or innovations.\n",
    "\n",
    "### 3. **Shipping Strategy Optimization:**\n",
    "   - **Shipping Method Preferences:** High-value goods are frequently transported via faster methods like air, whereas bulk and lower-value goods are shipped via slower and cost-effective methods (sea or land). However, exceptions in machinery (high weight via air) suggest that certain industries prioritize speed over cost.\n",
    "   - **Managerial Insight:** Companies should optimize their shipping strategies based on the value and urgency of their goods. High-value or time-sensitive products should prioritize faster methods, while bulk products may benefit from cost-efficient shipping modes like sea freight.\n",
    "\n",
    "### 4. **Country-Specific Strategies:**\n",
    "- The **French Polynesia** have the highest average transaction value among the top 5 countries. This indicates that the country deals with high-value goods in each transaction.\n",
    "- **Cook Island** has the second-highest average transaction value. The high quantity might be due to bulk imports or exports, as Antarctic logistics usually involve large consignments.\n",
    "- **Honduras’s** average quantity is relatively high, but the value is lower compared to other countries on the list. This suggests that Norway may engage in low-value goods that require large volumes.\n",
    "- **Jordan’s** average transaction value is also high, but with a lower quantity compared to other countries. This pattern could indicate trade in niche, high-value goods or materials.\n",
    "- **Lebanon’s** average value and quantity suggest a balanced trade, where both value and volume are significant.\n",
    "\n",
    "### 5. **Payment Terms and Financial Management:**\n",
    "   - **Payment Term Preferences:** The dominance of \"Cash on Delivery\" (COD) and \"Net 30\" terms reflects preferences for either immediate payment security or flexible short-term credit. Furniture and Clothing categories lean more towards COD, which could imply higher buyer risk or reliance on cash flows.\n",
    "   - **Managerial Insight:** For categories with high COD reliance, companies may need to ensure liquidity to accommodate immediate payments. On the other hand, industries like electronics and machinery that prefer \"Net 30\" should focus on maintaining credit terms and relationships to keep transactions flowing smoothly.\n",
    "\n",
    "### 6. **Weight-Based Logistics Optimization:**\n",
    "   - **Maximum Weight Consistency:** Most product categories (clothing, electronics, toys) show consistent maximum shipping weights across all methods, indicating standardized packaging and logistics practices. However, machinery and furniture display some variations, especially with air freight.\n",
    "   - **Managerial Insight:** Standardized shipping weights suggest the opportunity for logistical efficiency improvements through automation and uniform handling processes. Categories with higher weight variance may benefit from re-examining their packaging and shipping practices to reduce costs.\n",
    "\n",
    "### 7. **Ranking Categories by Economic Impact:**\n",
    "   - **Furniture’s High Economic Impact:** With furniture ranking highest in total economic value, companies in this category should explore strategies for scaling up their operations to meet market demand. This could include expanding manufacturing capacities, improving design innovations, or investing in marketing to capture more market share.\n",
    "   - **Managerial Insight:** Companies involved in high-impact categories like furniture and machinery should leverage this data to prioritize resource allocation and make strategic investments to maximize profitabhe greatest economic potential.\n"
   ]
  },
  {
   "cell_type": "markdown",
   "id": "4e245be0-b659-48cc-a471-7ccb47459b7a",
   "metadata": {},
   "source": [
    "# Recommendations\n",
    "Data-Driven Decision-Making: Implement regular monitoring and analysis of trade data to spot emerging trends. Leveraging advanced analytics tools like predictive modeling could further enhance the accuracy of future trade predictions.\n",
    "Optimize Shipping Methods for Cost Efficiency: For lower-value goods, businesses could explore more cost-effective shipping methods, potentially using consolidated shipping or partnerships with local carriers to reduce expenses.\n",
    "Country-Specific Partnerships: Develop strategic partnerships in countries with high import/export activities to capitalize on local market trends. Engaging in joint ventures or partnerships with local firms can improve access to resources and lower operational costs.\n"
   ]
  },
  {
   "cell_type": "markdown",
   "id": "0d786850-a3cf-4128-bbb1-160a1d3d9cf1",
   "metadata": {},
   "source": [
    "# Interpretation:\n",
    "**Intercept**:\n",
    "\n",
    "The intercept of 2622.22 represents the estimated Value when Quantity is zero. This provides a baseline value when the effect of Quantity is not considered.\n",
    "\n",
    "**Coefficients**:\n",
    "\n",
    "**Linear Term Coefficient (-0.0271)**: This coefficient indicates that there is a positive relationship between Quantity and Value. Specifically, for each unit increase in Quantity, the Value is expected to increase by approximately 0.326 units, assuming the quadratic effect is negligible.\n",
    "\n",
    "**Quadratic Term Coefficient(0.00000147)**: This negative coefficient for the quadratic term suggests that as Quantity increases, the effect of Quantity on Value starts to diminish. The negative curvature indicates that the relationship between Quantity and Value is not purely linear but has a diminishing effect at higher quantities.\n",
    "\n",
    "# Conclusion:\n",
    "The polynomial regression model demonstrates that for transactions from the top 5 countries, there is a general positive relationship between Quantity and Value, but with diminishing returns as Quantity increases. The model captures both the linear and quadratic effects, suggesting that while higher quantities lead to higher values, the rate of increase in value becomes less pronounced at larger quantities."
   ]
  },
  {
   "cell_type": "markdown",
   "id": "b6671f1a-0c51-40ce-9c7b-edb052f30858",
   "metadata": {},
   "source": [
    "# Importing Relevant Python Libraries.\n"
   ]
  },
  {
   "cell_type": "code",
   "execution_count": 1,
   "id": "10f5e30d",
   "metadata": {},
   "outputs": [],
   "source": [
    "import pandas as pd\n",
    "import numpy as np\n",
    "import seaborn as sns\n",
    "import matplotlib.pyplot as plt"
   ]
  },
  {
   "cell_type": "code",
   "execution_count": 3,
   "id": "b3ab6c98-3e32-4d3e-82fa-d5afbb57c4d5",
   "metadata": {},
   "outputs": [],
   "source": [
    "# Loading the Data.\n",
    "data = pd.read_csv(r\"C:\\Users\\Navneet\\Desktop\\Imports_Exports_Dataset.csv\")"
   ]
  },
  {
   "cell_type": "code",
   "execution_count": 5,
   "id": "3da21b9c-3a91-41b5-b3d7-6101e39ebd4c",
   "metadata": {},
   "outputs": [
    {
     "data": {
      "text/plain": [
       "(15000, 16)"
      ]
     },
     "execution_count": 5,
     "metadata": {},
     "output_type": "execute_result"
    }
   ],
   "source": [
    "# Dimensions of Data.\n",
    "data.shape"
   ]
  },
  {
   "cell_type": "code",
   "execution_count": 7,
   "id": "eae41ff1-61bd-4412-b7ef-89d6eb1aef16",
   "metadata": {},
   "outputs": [],
   "source": [
    "# Creating an Unique Sample of 2001 Records using Student Roll Number as Random State.\n",
    "sample=data.sample(n=2001, random_state=55026)"
   ]
  },
  {
   "cell_type": "code",
   "execution_count": 9,
   "id": "18aaf9d9-94e5-4836-bd6c-9935fbc3ce95",
   "metadata": {},
   "outputs": [
    {
     "data": {
      "text/plain": [
       "(2001, 16)"
      ]
     },
     "execution_count": 9,
     "metadata": {},
     "output_type": "execute_result"
    }
   ],
   "source": [
    "# Dimensions of Sample Data.\n",
    "sample.shape"
   ]
  },
  {
   "cell_type": "code",
   "execution_count": 11,
   "id": "a275ff0d-1f47-45f5-83f7-062875ee8401",
   "metadata": {},
   "outputs": [
    {
     "name": "stdout",
     "output_type": "stream",
     "text": [
      "<class 'pandas.core.frame.DataFrame'>\n",
      "Index: 2001 entries, 9591 to 10393\n",
      "Data columns (total 16 columns):\n",
      " #   Column           Non-Null Count  Dtype  \n",
      "---  ------           --------------  -----  \n",
      " 0   Transaction_ID   2001 non-null   object \n",
      " 1   Country          2001 non-null   object \n",
      " 2   Product          2001 non-null   object \n",
      " 3   Import_Export    2001 non-null   object \n",
      " 4   Quantity         2001 non-null   int64  \n",
      " 5   Value            2001 non-null   float64\n",
      " 6   Date             2001 non-null   object \n",
      " 7   Category         2001 non-null   object \n",
      " 8   Port             2001 non-null   object \n",
      " 9   Customs_Code     2001 non-null   int64  \n",
      " 10  Weight           2001 non-null   float64\n",
      " 11  Shipping_Method  2001 non-null   object \n",
      " 12  Supplier         2001 non-null   object \n",
      " 13  Customer         2001 non-null   object \n",
      " 14  Invoice_Number   2001 non-null   int64  \n",
      " 15  Payment_Terms    2001 non-null   object \n",
      "dtypes: float64(2), int64(3), object(11)\n",
      "memory usage: 265.8+ KB\n"
     ]
    }
   ],
   "source": [
    "# Sample Data Information.\n",
    "sample.info()"
   ]
  },
  {
   "cell_type": "code",
   "execution_count": 15,
   "id": "2a9dae43-e316-4f3d-b5e6-fd96e33ca618",
   "metadata": {},
   "outputs": [
    {
     "data": {
      "text/html": [
       "<div>\n",
       "<style scoped>\n",
       "    .dataframe tbody tr th:only-of-type {\n",
       "        vertical-align: middle;\n",
       "    }\n",
       "\n",
       "    .dataframe tbody tr th {\n",
       "        vertical-align: top;\n",
       "    }\n",
       "\n",
       "    .dataframe thead th {\n",
       "        text-align: right;\n",
       "    }\n",
       "</style>\n",
       "<table border=\"1\" class=\"dataframe\">\n",
       "  <thead>\n",
       "    <tr style=\"text-align: right;\">\n",
       "      <th></th>\n",
       "      <th>Transaction_ID</th>\n",
       "      <th>Country</th>\n",
       "      <th>Product</th>\n",
       "      <th>Import_Export</th>\n",
       "      <th>Quantity</th>\n",
       "      <th>Value</th>\n",
       "      <th>Date</th>\n",
       "      <th>Category</th>\n",
       "      <th>Port</th>\n",
       "      <th>Customs_Code</th>\n",
       "      <th>Weight</th>\n",
       "      <th>Shipping_Method</th>\n",
       "      <th>Supplier</th>\n",
       "      <th>Customer</th>\n",
       "      <th>Invoice_Number</th>\n",
       "      <th>Payment_Terms</th>\n",
       "    </tr>\n",
       "  </thead>\n",
       "  <tbody>\n",
       "    <tr>\n",
       "      <th>9591</th>\n",
       "      <td>efbbf8d7-ba1e-4619-8278-2f8a37d0c090</td>\n",
       "      <td>Senegal</td>\n",
       "      <td>movie</td>\n",
       "      <td>Export</td>\n",
       "      <td>2161</td>\n",
       "      <td>6188.59</td>\n",
       "      <td>18-10-2022</td>\n",
       "      <td>Toys</td>\n",
       "      <td>Adamsberg</td>\n",
       "      <td>913621</td>\n",
       "      <td>409.27</td>\n",
       "      <td>Sea</td>\n",
       "      <td>Gonzalez-Padilla</td>\n",
       "      <td>Carlos Dorsey</td>\n",
       "      <td>56198105</td>\n",
       "      <td>Net 30</td>\n",
       "    </tr>\n",
       "    <tr>\n",
       "      <th>14821</th>\n",
       "      <td>bd7d607b-5afb-406f-863c-0962f36c4433</td>\n",
       "      <td>Saint Barthelemy</td>\n",
       "      <td>rather</td>\n",
       "      <td>Import</td>\n",
       "      <td>1457</td>\n",
       "      <td>3906.47</td>\n",
       "      <td>08-04-2023</td>\n",
       "      <td>Toys</td>\n",
       "      <td>Kylechester</td>\n",
       "      <td>859212</td>\n",
       "      <td>2591.21</td>\n",
       "      <td>Sea</td>\n",
       "      <td>Mcdonald Group</td>\n",
       "      <td>Nathaniel Perry</td>\n",
       "      <td>99040454</td>\n",
       "      <td>Cash on Delivery</td>\n",
       "    </tr>\n",
       "    <tr>\n",
       "      <th>11273</th>\n",
       "      <td>70aed796-1be3-494a-bec5-70375cf97701</td>\n",
       "      <td>Belarus</td>\n",
       "      <td>doctor</td>\n",
       "      <td>Import</td>\n",
       "      <td>4512</td>\n",
       "      <td>7571.70</td>\n",
       "      <td>18-06-2021</td>\n",
       "      <td>Furniture</td>\n",
       "      <td>Diazburgh</td>\n",
       "      <td>574683</td>\n",
       "      <td>1196.33</td>\n",
       "      <td>Land</td>\n",
       "      <td>Welch and Sons</td>\n",
       "      <td>Nicole Patel</td>\n",
       "      <td>61459721</td>\n",
       "      <td>Prepaid</td>\n",
       "    </tr>\n",
       "    <tr>\n",
       "      <th>10702</th>\n",
       "      <td>9678afa5-c163-4cd3-9fa3-1cc81324f299</td>\n",
       "      <td>Reunion</td>\n",
       "      <td>pass</td>\n",
       "      <td>Export</td>\n",
       "      <td>9741</td>\n",
       "      <td>1812.54</td>\n",
       "      <td>31-03-2021</td>\n",
       "      <td>Machinery</td>\n",
       "      <td>Danielsburgh</td>\n",
       "      <td>190024</td>\n",
       "      <td>1197.44</td>\n",
       "      <td>Land</td>\n",
       "      <td>Williamson PLC</td>\n",
       "      <td>Lindsay Hickman</td>\n",
       "      <td>11443884</td>\n",
       "      <td>Cash on Delivery</td>\n",
       "    </tr>\n",
       "    <tr>\n",
       "      <th>1040</th>\n",
       "      <td>bb2c2c42-8f6d-4117-a1ea-a1fa663eab2b</td>\n",
       "      <td>Italy</td>\n",
       "      <td>anything</td>\n",
       "      <td>Export</td>\n",
       "      <td>6874</td>\n",
       "      <td>5320.43</td>\n",
       "      <td>18-09-2019</td>\n",
       "      <td>Electronics</td>\n",
       "      <td>Darinport</td>\n",
       "      <td>600187</td>\n",
       "      <td>3962.66</td>\n",
       "      <td>Sea</td>\n",
       "      <td>Foster-Bryant</td>\n",
       "      <td>Jimmy Bird</td>\n",
       "      <td>10215789</td>\n",
       "      <td>Net 30</td>\n",
       "    </tr>\n",
       "  </tbody>\n",
       "</table>\n",
       "</div>"
      ],
      "text/plain": [
       "                             Transaction_ID           Country   Product  \\\n",
       "9591   efbbf8d7-ba1e-4619-8278-2f8a37d0c090           Senegal     movie   \n",
       "14821  bd7d607b-5afb-406f-863c-0962f36c4433  Saint Barthelemy    rather   \n",
       "11273  70aed796-1be3-494a-bec5-70375cf97701           Belarus    doctor   \n",
       "10702  9678afa5-c163-4cd3-9fa3-1cc81324f299           Reunion      pass   \n",
       "1040   bb2c2c42-8f6d-4117-a1ea-a1fa663eab2b             Italy  anything   \n",
       "\n",
       "      Import_Export  Quantity    Value        Date     Category          Port  \\\n",
       "9591         Export      2161  6188.59  18-10-2022         Toys     Adamsberg   \n",
       "14821        Import      1457  3906.47  08-04-2023         Toys   Kylechester   \n",
       "11273        Import      4512  7571.70  18-06-2021    Furniture     Diazburgh   \n",
       "10702        Export      9741  1812.54  31-03-2021    Machinery  Danielsburgh   \n",
       "1040         Export      6874  5320.43  18-09-2019  Electronics     Darinport   \n",
       "\n",
       "       Customs_Code   Weight Shipping_Method          Supplier  \\\n",
       "9591         913621   409.27             Sea  Gonzalez-Padilla   \n",
       "14821        859212  2591.21             Sea    Mcdonald Group   \n",
       "11273        574683  1196.33            Land    Welch and Sons   \n",
       "10702        190024  1197.44            Land    Williamson PLC   \n",
       "1040         600187  3962.66             Sea     Foster-Bryant   \n",
       "\n",
       "              Customer  Invoice_Number     Payment_Terms  \n",
       "9591     Carlos Dorsey        56198105            Net 30  \n",
       "14821  Nathaniel Perry        99040454  Cash on Delivery  \n",
       "11273     Nicole Patel        61459721           Prepaid  \n",
       "10702  Lindsay Hickman        11443884  Cash on Delivery  \n",
       "1040        Jimmy Bird        10215789            Net 30  "
      ]
     },
     "execution_count": 15,
     "metadata": {},
     "output_type": "execute_result"
    }
   ],
   "source": [
    "# First 05 Records of the Sample Data\n",
    "sample.head()"
   ]
  },
  {
   "cell_type": "code",
   "execution_count": 17,
   "id": "8715946c-e386-4490-a524-d396da4f96e1",
   "metadata": {},
   "outputs": [
    {
     "data": {
      "text/plain": [
       "Index(['Transaction_ID', 'Country', 'Product', 'Import_Export', 'Quantity',\n",
       "       'Value', 'Date', 'Category', 'Port', 'Customs_Code', 'Weight',\n",
       "       'Shipping_Method', 'Supplier', 'Customer', 'Invoice_Number',\n",
       "       'Payment_Terms'],\n",
       "      dtype='object')"
      ]
     },
     "execution_count": 17,
     "metadata": {},
     "output_type": "execute_result"
    }
   ],
   "source": [
    "# Names of Variables\n",
    "sample.columns"
   ]
  },
  {
   "cell_type": "code",
   "execution_count": 19,
   "id": "9465c6ff-0c76-4ff1-a800-0ebb55b38a47",
   "metadata": {},
   "outputs": [
    {
     "data": {
      "text/html": [
       "<div>\n",
       "<style scoped>\n",
       "    .dataframe tbody tr th:only-of-type {\n",
       "        vertical-align: middle;\n",
       "    }\n",
       "\n",
       "    .dataframe tbody tr th {\n",
       "        vertical-align: top;\n",
       "    }\n",
       "\n",
       "    .dataframe thead th {\n",
       "        text-align: right;\n",
       "    }\n",
       "</style>\n",
       "<table border=\"1\" class=\"dataframe\">\n",
       "  <thead>\n",
       "    <tr style=\"text-align: right;\">\n",
       "      <th></th>\n",
       "      <th>Quantity</th>\n",
       "      <th>Value</th>\n",
       "      <th>Customs_Code</th>\n",
       "      <th>Weight</th>\n",
       "    </tr>\n",
       "  </thead>\n",
       "  <tbody>\n",
       "    <tr>\n",
       "      <th>9591</th>\n",
       "      <td>2161</td>\n",
       "      <td>6188.59</td>\n",
       "      <td>913621</td>\n",
       "      <td>409.27</td>\n",
       "    </tr>\n",
       "    <tr>\n",
       "      <th>14821</th>\n",
       "      <td>1457</td>\n",
       "      <td>3906.47</td>\n",
       "      <td>859212</td>\n",
       "      <td>2591.21</td>\n",
       "    </tr>\n",
       "    <tr>\n",
       "      <th>11273</th>\n",
       "      <td>4512</td>\n",
       "      <td>7571.70</td>\n",
       "      <td>574683</td>\n",
       "      <td>1196.33</td>\n",
       "    </tr>\n",
       "    <tr>\n",
       "      <th>10702</th>\n",
       "      <td>9741</td>\n",
       "      <td>1812.54</td>\n",
       "      <td>190024</td>\n",
       "      <td>1197.44</td>\n",
       "    </tr>\n",
       "    <tr>\n",
       "      <th>1040</th>\n",
       "      <td>6874</td>\n",
       "      <td>5320.43</td>\n",
       "      <td>600187</td>\n",
       "      <td>3962.66</td>\n",
       "    </tr>\n",
       "    <tr>\n",
       "      <th>...</th>\n",
       "      <td>...</td>\n",
       "      <td>...</td>\n",
       "      <td>...</td>\n",
       "      <td>...</td>\n",
       "    </tr>\n",
       "    <tr>\n",
       "      <th>13222</th>\n",
       "      <td>1106</td>\n",
       "      <td>4466.34</td>\n",
       "      <td>291926</td>\n",
       "      <td>2089.23</td>\n",
       "    </tr>\n",
       "    <tr>\n",
       "      <th>4211</th>\n",
       "      <td>3994</td>\n",
       "      <td>5647.05</td>\n",
       "      <td>137523</td>\n",
       "      <td>1252.97</td>\n",
       "    </tr>\n",
       "    <tr>\n",
       "      <th>8252</th>\n",
       "      <td>8923</td>\n",
       "      <td>8098.47</td>\n",
       "      <td>667355</td>\n",
       "      <td>3528.71</td>\n",
       "    </tr>\n",
       "    <tr>\n",
       "      <th>3823</th>\n",
       "      <td>3530</td>\n",
       "      <td>5128.83</td>\n",
       "      <td>958209</td>\n",
       "      <td>2903.29</td>\n",
       "    </tr>\n",
       "    <tr>\n",
       "      <th>10393</th>\n",
       "      <td>6635</td>\n",
       "      <td>7893.29</td>\n",
       "      <td>243286</td>\n",
       "      <td>2692.28</td>\n",
       "    </tr>\n",
       "  </tbody>\n",
       "</table>\n",
       "<p>2001 rows × 4 columns</p>\n",
       "</div>"
      ],
      "text/plain": [
       "       Quantity    Value  Customs_Code   Weight\n",
       "9591       2161  6188.59        913621   409.27\n",
       "14821      1457  3906.47        859212  2591.21\n",
       "11273      4512  7571.70        574683  1196.33\n",
       "10702      9741  1812.54        190024  1197.44\n",
       "1040       6874  5320.43        600187  3962.66\n",
       "...         ...      ...           ...      ...\n",
       "13222      1106  4466.34        291926  2089.23\n",
       "4211       3994  5647.05        137523  1252.97\n",
       "8252       8923  8098.47        667355  3528.71\n",
       "3823       3530  5128.83        958209  2903.29\n",
       "10393      6635  7893.29        243286  2692.28\n",
       "\n",
       "[2001 rows x 4 columns]"
      ]
     },
     "metadata": {},
     "output_type": "display_data"
    }
   ],
   "source": [
    "# Subseting the Non-Categorical Variables.\n",
    "non_categorical_columns = ['Quantity', 'Value', 'Customs_Code', 'Weight']\n",
    "non_categorical_df = sample[non_categorical_columns]\n",
    "display(non_categorical_df)"
   ]
  },
  {
   "cell_type": "code",
   "execution_count": 21,
   "id": "98293622-2512-410e-9887-b88f2bf6d257",
   "metadata": {},
   "outputs": [
    {
     "data": {
      "text/html": [
       "<div>\n",
       "<style scoped>\n",
       "    .dataframe tbody tr th:only-of-type {\n",
       "        vertical-align: middle;\n",
       "    }\n",
       "\n",
       "    .dataframe tbody tr th {\n",
       "        vertical-align: top;\n",
       "    }\n",
       "\n",
       "    .dataframe thead th {\n",
       "        text-align: right;\n",
       "    }\n",
       "</style>\n",
       "<table border=\"1\" class=\"dataframe\">\n",
       "  <thead>\n",
       "    <tr style=\"text-align: right;\">\n",
       "      <th></th>\n",
       "      <th>Quantity</th>\n",
       "      <th>Value</th>\n",
       "      <th>Customs_Code</th>\n",
       "      <th>Weight</th>\n",
       "    </tr>\n",
       "  </thead>\n",
       "  <tbody>\n",
       "    <tr>\n",
       "      <th>count</th>\n",
       "      <td>2001.00</td>\n",
       "      <td>2001.00</td>\n",
       "      <td>2001.00</td>\n",
       "      <td>2001.00</td>\n",
       "    </tr>\n",
       "    <tr>\n",
       "      <th>mean</th>\n",
       "      <td>4966.29</td>\n",
       "      <td>4994.71</td>\n",
       "      <td>552139.46</td>\n",
       "      <td>2495.76</td>\n",
       "    </tr>\n",
       "    <tr>\n",
       "      <th>std</th>\n",
       "      <td>2832.39</td>\n",
       "      <td>2861.74</td>\n",
       "      <td>262118.20</td>\n",
       "      <td>1437.69</td>\n",
       "    </tr>\n",
       "    <tr>\n",
       "      <th>min</th>\n",
       "      <td>5.00</td>\n",
       "      <td>111.29</td>\n",
       "      <td>100147.00</td>\n",
       "      <td>2.59</td>\n",
       "    </tr>\n",
       "    <tr>\n",
       "      <th>25%</th>\n",
       "      <td>2494.00</td>\n",
       "      <td>2506.70</td>\n",
       "      <td>323213.00</td>\n",
       "      <td>1257.76</td>\n",
       "    </tr>\n",
       "    <tr>\n",
       "      <th>50%</th>\n",
       "      <td>5002.00</td>\n",
       "      <td>4944.98</td>\n",
       "      <td>549088.00</td>\n",
       "      <td>2482.53</td>\n",
       "    </tr>\n",
       "    <tr>\n",
       "      <th>75%</th>\n",
       "      <td>7369.00</td>\n",
       "      <td>7419.47</td>\n",
       "      <td>783824.00</td>\n",
       "      <td>3749.61</td>\n",
       "    </tr>\n",
       "    <tr>\n",
       "      <th>max</th>\n",
       "      <td>10000.00</td>\n",
       "      <td>9987.98</td>\n",
       "      <td>999543.00</td>\n",
       "      <td>4999.93</td>\n",
       "    </tr>\n",
       "  </tbody>\n",
       "</table>\n",
       "</div>"
      ],
      "text/plain": [
       "       Quantity    Value  Customs_Code   Weight\n",
       "count   2001.00  2001.00       2001.00  2001.00\n",
       "mean    4966.29  4994.71     552139.46  2495.76\n",
       "std     2832.39  2861.74     262118.20  1437.69\n",
       "min        5.00   111.29     100147.00     2.59\n",
       "25%     2494.00  2506.70     323213.00  1257.76\n",
       "50%     5002.00  4944.98     549088.00  2482.53\n",
       "75%     7369.00  7419.47     783824.00  3749.61\n",
       "max    10000.00  9987.98     999543.00  4999.93"
      ]
     },
     "metadata": {},
     "output_type": "display_data"
    }
   ],
   "source": [
    "# Descriptive Statistics of the Non-Categorical Set.\n",
    "non_categorical_stats = non_categorical_df.describe()\n",
    "non_categorical_stats= np.round(non_categorical_stats,2)\n",
    "# Display the statistics\n",
    "display(non_categorical_stats)"
   ]
  },
  {
   "cell_type": "code",
   "execution_count": 23,
   "id": "7d4d09a3-d2b5-4c36-b7b0-c4b99251eb08",
   "metadata": {},
   "outputs": [
    {
     "data": {
      "text/html": [
       "<div>\n",
       "<style scoped>\n",
       "    .dataframe tbody tr th:only-of-type {\n",
       "        vertical-align: middle;\n",
       "    }\n",
       "\n",
       "    .dataframe tbody tr th {\n",
       "        vertical-align: top;\n",
       "    }\n",
       "\n",
       "    .dataframe thead th {\n",
       "        text-align: right;\n",
       "    }\n",
       "</style>\n",
       "<table border=\"1\" class=\"dataframe\">\n",
       "  <thead>\n",
       "    <tr style=\"text-align: right;\">\n",
       "      <th></th>\n",
       "      <th>Country</th>\n",
       "      <th>Product</th>\n",
       "      <th>Import_Export</th>\n",
       "      <th>Category</th>\n",
       "      <th>Port</th>\n",
       "      <th>Shipping_Method</th>\n",
       "      <th>Supplier</th>\n",
       "      <th>Customer</th>\n",
       "      <th>Payment_Terms</th>\n",
       "    </tr>\n",
       "  </thead>\n",
       "  <tbody>\n",
       "    <tr>\n",
       "      <th>9591</th>\n",
       "      <td>Senegal</td>\n",
       "      <td>movie</td>\n",
       "      <td>Export</td>\n",
       "      <td>Toys</td>\n",
       "      <td>Adamsberg</td>\n",
       "      <td>Sea</td>\n",
       "      <td>Gonzalez-Padilla</td>\n",
       "      <td>Carlos Dorsey</td>\n",
       "      <td>Net 30</td>\n",
       "    </tr>\n",
       "    <tr>\n",
       "      <th>14821</th>\n",
       "      <td>Saint Barthelemy</td>\n",
       "      <td>rather</td>\n",
       "      <td>Import</td>\n",
       "      <td>Toys</td>\n",
       "      <td>Kylechester</td>\n",
       "      <td>Sea</td>\n",
       "      <td>Mcdonald Group</td>\n",
       "      <td>Nathaniel Perry</td>\n",
       "      <td>Cash on Delivery</td>\n",
       "    </tr>\n",
       "    <tr>\n",
       "      <th>11273</th>\n",
       "      <td>Belarus</td>\n",
       "      <td>doctor</td>\n",
       "      <td>Import</td>\n",
       "      <td>Furniture</td>\n",
       "      <td>Diazburgh</td>\n",
       "      <td>Land</td>\n",
       "      <td>Welch and Sons</td>\n",
       "      <td>Nicole Patel</td>\n",
       "      <td>Prepaid</td>\n",
       "    </tr>\n",
       "    <tr>\n",
       "      <th>10702</th>\n",
       "      <td>Reunion</td>\n",
       "      <td>pass</td>\n",
       "      <td>Export</td>\n",
       "      <td>Machinery</td>\n",
       "      <td>Danielsburgh</td>\n",
       "      <td>Land</td>\n",
       "      <td>Williamson PLC</td>\n",
       "      <td>Lindsay Hickman</td>\n",
       "      <td>Cash on Delivery</td>\n",
       "    </tr>\n",
       "    <tr>\n",
       "      <th>1040</th>\n",
       "      <td>Italy</td>\n",
       "      <td>anything</td>\n",
       "      <td>Export</td>\n",
       "      <td>Electronics</td>\n",
       "      <td>Darinport</td>\n",
       "      <td>Sea</td>\n",
       "      <td>Foster-Bryant</td>\n",
       "      <td>Jimmy Bird</td>\n",
       "      <td>Net 30</td>\n",
       "    </tr>\n",
       "    <tr>\n",
       "      <th>...</th>\n",
       "      <td>...</td>\n",
       "      <td>...</td>\n",
       "      <td>...</td>\n",
       "      <td>...</td>\n",
       "      <td>...</td>\n",
       "      <td>...</td>\n",
       "      <td>...</td>\n",
       "      <td>...</td>\n",
       "      <td>...</td>\n",
       "    </tr>\n",
       "    <tr>\n",
       "      <th>13222</th>\n",
       "      <td>Ghana</td>\n",
       "      <td>sport</td>\n",
       "      <td>Export</td>\n",
       "      <td>Electronics</td>\n",
       "      <td>North Johnland</td>\n",
       "      <td>Sea</td>\n",
       "      <td>Rowland and Sons</td>\n",
       "      <td>Donna Shannon</td>\n",
       "      <td>Prepaid</td>\n",
       "    </tr>\n",
       "    <tr>\n",
       "      <th>4211</th>\n",
       "      <td>Finland</td>\n",
       "      <td>worker</td>\n",
       "      <td>Export</td>\n",
       "      <td>Machinery</td>\n",
       "      <td>North Susanberg</td>\n",
       "      <td>Land</td>\n",
       "      <td>Hamilton, Nelson and Mitchell</td>\n",
       "      <td>Phillip Lee</td>\n",
       "      <td>Net 30</td>\n",
       "    </tr>\n",
       "    <tr>\n",
       "      <th>8252</th>\n",
       "      <td>Qatar</td>\n",
       "      <td>weight</td>\n",
       "      <td>Import</td>\n",
       "      <td>Electronics</td>\n",
       "      <td>Wrightberg</td>\n",
       "      <td>Land</td>\n",
       "      <td>Jimenez-Williams</td>\n",
       "      <td>Bobby Johnson</td>\n",
       "      <td>Prepaid</td>\n",
       "    </tr>\n",
       "    <tr>\n",
       "      <th>3823</th>\n",
       "      <td>Cameroon</td>\n",
       "      <td>money</td>\n",
       "      <td>Export</td>\n",
       "      <td>Electronics</td>\n",
       "      <td>Lake Alyssafurt</td>\n",
       "      <td>Air</td>\n",
       "      <td>Richards, Ward and Vaughn</td>\n",
       "      <td>Jesse Morgan</td>\n",
       "      <td>Net 30</td>\n",
       "    </tr>\n",
       "    <tr>\n",
       "      <th>10393</th>\n",
       "      <td>Congo</td>\n",
       "      <td>party</td>\n",
       "      <td>Import</td>\n",
       "      <td>Machinery</td>\n",
       "      <td>New Sharonland</td>\n",
       "      <td>Land</td>\n",
       "      <td>Scott-Bailey</td>\n",
       "      <td>Emily Davis</td>\n",
       "      <td>Net 60</td>\n",
       "    </tr>\n",
       "  </tbody>\n",
       "</table>\n",
       "<p>2001 rows × 9 columns</p>\n",
       "</div>"
      ],
      "text/plain": [
       "                Country   Product Import_Export     Category             Port  \\\n",
       "9591            Senegal     movie        Export         Toys        Adamsberg   \n",
       "14821  Saint Barthelemy    rather        Import         Toys      Kylechester   \n",
       "11273           Belarus    doctor        Import    Furniture        Diazburgh   \n",
       "10702           Reunion      pass        Export    Machinery     Danielsburgh   \n",
       "1040              Italy  anything        Export  Electronics        Darinport   \n",
       "...                 ...       ...           ...          ...              ...   \n",
       "13222             Ghana     sport        Export  Electronics   North Johnland   \n",
       "4211            Finland    worker        Export    Machinery  North Susanberg   \n",
       "8252              Qatar    weight        Import  Electronics       Wrightberg   \n",
       "3823           Cameroon     money        Export  Electronics  Lake Alyssafurt   \n",
       "10393             Congo     party        Import    Machinery   New Sharonland   \n",
       "\n",
       "      Shipping_Method                       Supplier         Customer  \\\n",
       "9591              Sea               Gonzalez-Padilla    Carlos Dorsey   \n",
       "14821             Sea                 Mcdonald Group  Nathaniel Perry   \n",
       "11273            Land                 Welch and Sons     Nicole Patel   \n",
       "10702            Land                 Williamson PLC  Lindsay Hickman   \n",
       "1040              Sea                  Foster-Bryant       Jimmy Bird   \n",
       "...               ...                            ...              ...   \n",
       "13222             Sea               Rowland and Sons    Donna Shannon   \n",
       "4211             Land  Hamilton, Nelson and Mitchell      Phillip Lee   \n",
       "8252             Land               Jimenez-Williams    Bobby Johnson   \n",
       "3823              Air      Richards, Ward and Vaughn     Jesse Morgan   \n",
       "10393            Land                   Scott-Bailey      Emily Davis   \n",
       "\n",
       "          Payment_Terms  \n",
       "9591             Net 30  \n",
       "14821  Cash on Delivery  \n",
       "11273           Prepaid  \n",
       "10702  Cash on Delivery  \n",
       "1040             Net 30  \n",
       "...                 ...  \n",
       "13222           Prepaid  \n",
       "4211             Net 30  \n",
       "8252            Prepaid  \n",
       "3823             Net 30  \n",
       "10393            Net 60  \n",
       "\n",
       "[2001 rows x 9 columns]"
      ]
     },
     "execution_count": 23,
     "metadata": {},
     "output_type": "execute_result"
    }
   ],
   "source": [
    "#Subseting the Categorical Variables.\n",
    "categorical_variables = [\"Country\", \"Product\", \"Import_Export\", \"Category\", \"Port\", \"Shipping_Method\", \"Supplier\", \"Customer\", \"Payment_Terms\"\n",
    "\n",
    "]\n",
    "categ = sample[categorical_variables]\n",
    "categ"
   ]
  },
  {
   "cell_type": "code",
   "execution_count": 25,
   "id": "96dc5afb-3dfe-41b4-a7e1-6e47273bc6d8",
   "metadata": {},
   "outputs": [
    {
     "data": {
      "text/html": [
       "<div>\n",
       "<style scoped>\n",
       "    .dataframe tbody tr th:only-of-type {\n",
       "        vertical-align: middle;\n",
       "    }\n",
       "\n",
       "    .dataframe tbody tr th {\n",
       "        vertical-align: top;\n",
       "    }\n",
       "\n",
       "    .dataframe thead th {\n",
       "        text-align: right;\n",
       "    }\n",
       "</style>\n",
       "<table border=\"1\" class=\"dataframe\">\n",
       "  <thead>\n",
       "    <tr style=\"text-align: right;\">\n",
       "      <th></th>\n",
       "      <th>count</th>\n",
       "    </tr>\n",
       "    <tr>\n",
       "      <th>Category</th>\n",
       "      <th></th>\n",
       "    </tr>\n",
       "  </thead>\n",
       "  <tbody>\n",
       "    <tr>\n",
       "      <th>Clothing</th>\n",
       "      <td>420</td>\n",
       "    </tr>\n",
       "    <tr>\n",
       "      <th>Machinery</th>\n",
       "      <td>416</td>\n",
       "    </tr>\n",
       "    <tr>\n",
       "      <th>Furniture</th>\n",
       "      <td>415</td>\n",
       "    </tr>\n",
       "    <tr>\n",
       "      <th>Toys</th>\n",
       "      <td>390</td>\n",
       "    </tr>\n",
       "    <tr>\n",
       "      <th>Electronics</th>\n",
       "      <td>360</td>\n",
       "    </tr>\n",
       "  </tbody>\n",
       "</table>\n",
       "</div>"
      ],
      "text/plain": [
       "             count\n",
       "Category          \n",
       "Clothing       420\n",
       "Machinery      416\n",
       "Furniture      415\n",
       "Toys           390\n",
       "Electronics    360"
      ]
     },
     "metadata": {},
     "output_type": "display_data"
    }
   ],
   "source": [
    "#Descriptive Statistics of Any 01 Categorical Variable.\n",
    "display(pd.DataFrame(sample[\"Category\"].value_counts()))"
   ]
  },
  {
   "cell_type": "markdown",
   "id": "de999e0e-a7e6-423f-b49d-f00c625747b4",
   "metadata": {},
   "source": [
    "## **1.Descriptive Statistics**"
   ]
  },
  {
   "cell_type": "markdown",
   "id": "eee787aa-11e6-4546-85dd-d41413cc6e55",
   "metadata": {},
   "source": [
    "### **Measures of Central Tendency**"
   ]
  },
  {
   "cell_type": "code",
   "execution_count": 27,
   "id": "1ffadd3d-aa79-4de1-8324-9ba2261d688d",
   "metadata": {},
   "outputs": [
    {
     "name": "stdout",
     "output_type": "stream",
     "text": [
      "\n",
      " Mean :\n"
     ]
    },
    {
     "data": {
      "text/html": [
       "<div>\n",
       "<style scoped>\n",
       "    .dataframe tbody tr th:only-of-type {\n",
       "        vertical-align: middle;\n",
       "    }\n",
       "\n",
       "    .dataframe tbody tr th {\n",
       "        vertical-align: top;\n",
       "    }\n",
       "\n",
       "    .dataframe thead th {\n",
       "        text-align: right;\n",
       "    }\n",
       "</style>\n",
       "<table border=\"1\" class=\"dataframe\">\n",
       "  <thead>\n",
       "    <tr style=\"text-align: right;\">\n",
       "      <th></th>\n",
       "      <th>Mean</th>\n",
       "    </tr>\n",
       "  </thead>\n",
       "  <tbody>\n",
       "    <tr>\n",
       "      <th>Quantity</th>\n",
       "      <td>4966.29</td>\n",
       "    </tr>\n",
       "    <tr>\n",
       "      <th>Value</th>\n",
       "      <td>4994.71</td>\n",
       "    </tr>\n",
       "    <tr>\n",
       "      <th>Weight</th>\n",
       "      <td>2495.76</td>\n",
       "    </tr>\n",
       "  </tbody>\n",
       "</table>\n",
       "</div>"
      ],
      "text/plain": [
       "             Mean\n",
       "Quantity  4966.29\n",
       "Value     4994.71\n",
       "Weight    2495.76"
      ]
     },
     "metadata": {},
     "output_type": "display_data"
    },
    {
     "name": "stdout",
     "output_type": "stream",
     "text": [
      "\n",
      " Median :\n"
     ]
    },
    {
     "data": {
      "text/html": [
       "<div>\n",
       "<style scoped>\n",
       "    .dataframe tbody tr th:only-of-type {\n",
       "        vertical-align: middle;\n",
       "    }\n",
       "\n",
       "    .dataframe tbody tr th {\n",
       "        vertical-align: top;\n",
       "    }\n",
       "\n",
       "    .dataframe thead th {\n",
       "        text-align: right;\n",
       "    }\n",
       "</style>\n",
       "<table border=\"1\" class=\"dataframe\">\n",
       "  <thead>\n",
       "    <tr style=\"text-align: right;\">\n",
       "      <th></th>\n",
       "      <th>Median</th>\n",
       "    </tr>\n",
       "  </thead>\n",
       "  <tbody>\n",
       "    <tr>\n",
       "      <th>Quantity</th>\n",
       "      <td>5002.00</td>\n",
       "    </tr>\n",
       "    <tr>\n",
       "      <th>Value</th>\n",
       "      <td>4944.98</td>\n",
       "    </tr>\n",
       "    <tr>\n",
       "      <th>Weight</th>\n",
       "      <td>2482.53</td>\n",
       "    </tr>\n",
       "  </tbody>\n",
       "</table>\n",
       "</div>"
      ],
      "text/plain": [
       "           Median\n",
       "Quantity  5002.00\n",
       "Value     4944.98\n",
       "Weight    2482.53"
      ]
     },
     "metadata": {},
     "output_type": "display_data"
    },
    {
     "name": "stdout",
     "output_type": "stream",
     "text": [
      "\n",
      " Mode of Weights : \n"
     ]
    },
    {
     "data": {
      "text/html": [
       "<div>\n",
       "<style scoped>\n",
       "    .dataframe tbody tr th:only-of-type {\n",
       "        vertical-align: middle;\n",
       "    }\n",
       "\n",
       "    .dataframe tbody tr th {\n",
       "        vertical-align: top;\n",
       "    }\n",
       "\n",
       "    .dataframe thead th {\n",
       "        text-align: right;\n",
       "    }\n",
       "</style>\n",
       "<table border=\"1\" class=\"dataframe\">\n",
       "  <thead>\n",
       "    <tr style=\"text-align: right;\">\n",
       "      <th></th>\n",
       "      <th>Mode of Weights</th>\n",
       "    </tr>\n",
       "  </thead>\n",
       "  <tbody>\n",
       "    <tr>\n",
       "      <th>0</th>\n",
       "      <td>1715.89</td>\n",
       "    </tr>\n",
       "    <tr>\n",
       "      <th>1</th>\n",
       "      <td>1741.91</td>\n",
       "    </tr>\n",
       "    <tr>\n",
       "      <th>2</th>\n",
       "      <td>2015.85</td>\n",
       "    </tr>\n",
       "    <tr>\n",
       "      <th>3</th>\n",
       "      <td>3556.38</td>\n",
       "    </tr>\n",
       "    <tr>\n",
       "      <th>4</th>\n",
       "      <td>3749.61</td>\n",
       "    </tr>\n",
       "  </tbody>\n",
       "</table>\n",
       "</div>"
      ],
      "text/plain": [
       "   Mode of Weights\n",
       "0          1715.89\n",
       "1          1741.91\n",
       "2          2015.85\n",
       "3          3556.38\n",
       "4          3749.61"
      ]
     },
     "metadata": {},
     "output_type": "display_data"
    }
   ],
   "source": [
    "# Mean, Median, Mode\n",
    "non_categorical_df_1 = non_categorical_df = sample[[\"Quantity\", \"Value\", \"Weight\"]] \n",
    "mean_values = pd.DataFrame(non_categorical_df_1.mean())\n",
    "mean_values.columns = ['Mean']\n",
    "median_values = pd.DataFrame(non_categorical_df_1.median())\n",
    "median_values.columns = ['Median']\n",
    "mode_values = sample[[\"Weight\"]].mode()\n",
    "mode_values.columns = ['Mode of Weights']\n",
    "print(\"\\n Mean :\")\n",
    "display(np.round(mean_values,2))\n",
    "print(\"\\n Median :\")\n",
    "display(median_values)\n",
    "print(\"\\n Mode of Weights : \")\n",
    "display(mode_values)"
   ]
  },
  {
   "cell_type": "markdown",
   "id": "0d80ec5e-c571-4799-8340-d1145e9dee1e",
   "metadata": {},
   "source": [
    "# Mean Interpretation:\n",
    "Quantity (Mean: 4966.29): On average, the dataset shows that the quantity of goods involved in the transactions is approximately 4966.29 units.\n",
    "\n",
    "Value (Mean: 4994.71): The mean value of the goods in each transaction is around 4994.71, which suggests a general average transaction value across the dataset.\n",
    "\n",
    "Weight (Mean: 2495.76): The average weight of the goods in each transaction is approximately 2495.76 units, indicating the typical weight being handled per transaction.\n",
    "\n",
    "\n",
    "# Median Interpretation:\n",
    "Quantity (Median: 5002.00): The median quantity is 5002.00 units, meaning that half of the transactions have a quantity below 5041 and the other half have a quantity above it. This indicates that most transactions revolve around this quantity.\n",
    "\n",
    "Value (Median: 4944.98): The median value is 4944.98, indicating that half of the transactions are valued below this amount, and half are above. Since the median and mean are quite close, the data may not have extreme outliers.\n",
    "\n",
    "Weight (Median: 2482.53): The median weight is 2482.53, meaning the central value of the dataset is around this number. Similar to the other variables, the mean and median are close, which suggests a fairly even distribution of data without major outliers.\n",
    "\n",
    "\n",
    "# Mode Interpretation:\n",
    "Weight (Modes: 1715.89, 1741.91, 2015.85, 3556.38, 3749.61):  Since there are multiple modes for the weight, this suggests that the data is multimodal, meaning there are several common weights that appear repeatedly. These weights likely correspond to specific categories or shipment types that occur frequently.\n",
    "\n",
    "In summary, the mean and median for Quantity, Value, and Weight are relatively close, suggesting that the dataset is fairly balanced without significant outliers. However, the multiple modes in Weight indicate that some weights are more common than others, potentially reflecting different types of shipments or goods being traded at various weight levels."
   ]
  },
  {
   "cell_type": "markdown",
   "id": "9ac93c83",
   "metadata": {},
   "source": [
    "## Maximum and Minimum Table"
   ]
  },
  {
   "cell_type": "code",
   "execution_count": 30,
   "id": "816c1f8b",
   "metadata": {},
   "outputs": [
    {
     "name": "stdout",
     "output_type": "stream",
     "text": [
      "\n",
      "Minimum Table:\n"
     ]
    },
    {
     "data": {
      "text/html": [
       "<div>\n",
       "<style scoped>\n",
       "    .dataframe tbody tr th:only-of-type {\n",
       "        vertical-align: middle;\n",
       "    }\n",
       "\n",
       "    .dataframe tbody tr th {\n",
       "        vertical-align: top;\n",
       "    }\n",
       "\n",
       "    .dataframe thead th {\n",
       "        text-align: right;\n",
       "    }\n",
       "</style>\n",
       "<table border=\"1\" class=\"dataframe\">\n",
       "  <thead>\n",
       "    <tr style=\"text-align: right;\">\n",
       "      <th></th>\n",
       "      <th>Minimum</th>\n",
       "    </tr>\n",
       "  </thead>\n",
       "  <tbody>\n",
       "    <tr>\n",
       "      <th>Country</th>\n",
       "      <td>Afghanistan</td>\n",
       "    </tr>\n",
       "    <tr>\n",
       "      <th>Product</th>\n",
       "      <td>American</td>\n",
       "    </tr>\n",
       "    <tr>\n",
       "      <th>Import_Export</th>\n",
       "      <td>Export</td>\n",
       "    </tr>\n",
       "    <tr>\n",
       "      <th>Category</th>\n",
       "      <td>Clothing</td>\n",
       "    </tr>\n",
       "    <tr>\n",
       "      <th>Port</th>\n",
       "      <td>Aaronborough</td>\n",
       "    </tr>\n",
       "    <tr>\n",
       "      <th>Shipping_Method</th>\n",
       "      <td>Air</td>\n",
       "    </tr>\n",
       "    <tr>\n",
       "      <th>Supplier</th>\n",
       "      <td>Abbott LLC</td>\n",
       "    </tr>\n",
       "    <tr>\n",
       "      <th>Customer</th>\n",
       "      <td>Aaron Baker</td>\n",
       "    </tr>\n",
       "    <tr>\n",
       "      <th>Payment_Terms</th>\n",
       "      <td>Cash on Delivery</td>\n",
       "    </tr>\n",
       "  </tbody>\n",
       "</table>\n",
       "</div>"
      ],
      "text/plain": [
       "                          Minimum\n",
       "Country               Afghanistan\n",
       "Product                  American\n",
       "Import_Export              Export\n",
       "Category                 Clothing\n",
       "Port                 Aaronborough\n",
       "Shipping_Method               Air\n",
       "Supplier               Abbott LLC\n",
       "Customer              Aaron Baker\n",
       "Payment_Terms    Cash on Delivery"
      ]
     },
     "metadata": {},
     "output_type": "display_data"
    },
    {
     "name": "stdout",
     "output_type": "stream",
     "text": [
      "\n",
      "Maximum Table:\n"
     ]
    },
    {
     "data": {
      "text/html": [
       "<div>\n",
       "<style scoped>\n",
       "    .dataframe tbody tr th:only-of-type {\n",
       "        vertical-align: middle;\n",
       "    }\n",
       "\n",
       "    .dataframe tbody tr th {\n",
       "        vertical-align: top;\n",
       "    }\n",
       "\n",
       "    .dataframe thead th {\n",
       "        text-align: right;\n",
       "    }\n",
       "</style>\n",
       "<table border=\"1\" class=\"dataframe\">\n",
       "  <thead>\n",
       "    <tr style=\"text-align: right;\">\n",
       "      <th></th>\n",
       "      <th>Maximum</th>\n",
       "    </tr>\n",
       "  </thead>\n",
       "  <tbody>\n",
       "    <tr>\n",
       "      <th>Country</th>\n",
       "      <td>Zimbabwe</td>\n",
       "    </tr>\n",
       "    <tr>\n",
       "      <th>Product</th>\n",
       "      <td>yourself</td>\n",
       "    </tr>\n",
       "    <tr>\n",
       "      <th>Import_Export</th>\n",
       "      <td>Import</td>\n",
       "    </tr>\n",
       "    <tr>\n",
       "      <th>Category</th>\n",
       "      <td>Toys</td>\n",
       "    </tr>\n",
       "    <tr>\n",
       "      <th>Port</th>\n",
       "      <td>Zoeton</td>\n",
       "    </tr>\n",
       "    <tr>\n",
       "      <th>Shipping_Method</th>\n",
       "      <td>Sea</td>\n",
       "    </tr>\n",
       "    <tr>\n",
       "      <th>Supplier</th>\n",
       "      <td>Zuniga, Schwartz and Butler</td>\n",
       "    </tr>\n",
       "    <tr>\n",
       "      <th>Customer</th>\n",
       "      <td>Zoe Ferguson</td>\n",
       "    </tr>\n",
       "    <tr>\n",
       "      <th>Payment_Terms</th>\n",
       "      <td>Prepaid</td>\n",
       "    </tr>\n",
       "  </tbody>\n",
       "</table>\n",
       "</div>"
      ],
      "text/plain": [
       "                                     Maximum\n",
       "Country                             Zimbabwe\n",
       "Product                             yourself\n",
       "Import_Export                         Import\n",
       "Category                                Toys\n",
       "Port                                  Zoeton\n",
       "Shipping_Method                          Sea\n",
       "Supplier         Zuniga, Schwartz and Butler\n",
       "Customer                        Zoe Ferguson\n",
       "Payment_Terms                        Prepaid"
      ]
     },
     "metadata": {},
     "output_type": "display_data"
    }
   ],
   "source": [
    "#Minimum Table\n",
    "min_table = pd.DataFrame(index=categorical_variables, columns=['Minimum'])\n",
    "for col in categorical_variables:\n",
    "    min_table.loc[col] = sample[col].min()\n",
    "print(\"\\nMinimum Table:\")\n",
    "display(min_table)\n",
    "\n",
    "#Maximum Table\n",
    "max_table = pd.DataFrame(index=categorical_variables, columns=['Maximum'])\n",
    "for col in categorical_variables:\n",
    "    max_table.loc[col] = sample[col].max()\n",
    "print(\"\\nMaximum Table:\")\n",
    "display(max_table)"
   ]
  },
  {
   "cell_type": "markdown",
   "id": "7ce192f0-3996-4693-85c4-b8d9d5894dd5",
   "metadata": {},
   "source": [
    "## **Measures of Dispersion**"
   ]
  },
  {
   "cell_type": "code",
   "execution_count": 32,
   "id": "d6ca541e-0f43-4b5e-9d4c-1fd974383c9f",
   "metadata": {},
   "outputs": [
    {
     "name": "stdout",
     "output_type": "stream",
     "text": [
      "Range:\n",
      " Quantity    9995.00\n",
      "Value       9876.69\n",
      "Weight      4997.34\n",
      "dtype: float64\n",
      "Standard Deviation:\n",
      " Quantity    2832.388528\n",
      "Value       2861.737676\n",
      "Weight      1437.689731\n",
      "dtype: float64\n",
      "Variance:\n",
      " Quantity    8.022425e+06\n",
      "Value       8.189543e+06\n",
      "Weight      2.066952e+06\n",
      "dtype: float64\n"
     ]
    }
   ],
   "source": [
    "# Range, Standard Deviation, Variance\n",
    "range_values = non_categorical_df.max() - non_categorical_df.min()\n",
    "std_dev_values = non_categorical_df.std()\n",
    "variance_values = non_categorical_df.var()\n",
    "\n",
    "print(\"Range:\\n\", range_values)\n",
    "print(\"Standard Deviation:\\n\", std_dev_values)\n",
    "print(\"Variance:\\n\", variance_values)"
   ]
  },
  {
   "cell_type": "markdown",
   "id": "62723cf1-0098-4bcb-b351-e86df63d29b5",
   "metadata": {},
   "source": [
    "### Range Interpretation:\n",
    "Quantity (Range: 9995.00): The difference between the maximum and minimum quantities in the dataset is 9995 units, indicating a wide variation in the number of goods involved in each transaction.\n",
    "\n",
    "Value (Range: 9876.69): The range of values across transactions is 9876.69, which suggests significant variability in the monetary value of transactions.\n",
    "\n",
    "Weight (Range: 4997.34): The weight of goods ranges over 4997.34 units, showing that shipments can vary greatly in terms of how heavy they are.\n",
    "The range provides a quick overview of the spread in the data, but it doesn’t account for how the data is distributed between the extremes.\n",
    "\n",
    "### Standard Deviation Interpretation:\n",
    "Quantity (Standard Deviation: 2832.388528): The quantity of goods varies by about 2832.388528 units from the mean. A large standard deviation relative to the mean indicates that there is considerable variation in the quantity of goods across transactions.\n",
    "\n",
    "Value (Standard Deviation: 2861.737676): The standard deviation for transaction values is 2861.737676, meaning that the value of goods in each transaction tends to deviate from the mean by this amount. Again, this indicates significant variability in transaction values.\n",
    "\n",
    "Weight (Standard Deviation: 1437.689731): The weights of shipments tend to vary by about 1437.689731 units from the mean. This suggests moderate variability in shipment weights, though less than the variability seen in quantity and value.\n",
    "\n",
    "### Variance Interpretation:\n",
    "Quantity (Variance: 8.022425e+06): The variance for quantity is 8.02 million, which is the square of the standard deviation. This large number reflects the wide range and significant variation in quantities across transactions.\n",
    "\n",
    "Value (Variance: 8.189543e+06): The variance in the value of transactions is about 8.18 million. This again shows substantial variability in transaction values, aligned with the wide range observed.\n",
    "\n",
    "Weight (Variance: 2.066952e+06): The variance for weight is 2.06 million. This lower variance compared to quantity and value indicates that the weights are less spread out across transactions than the other two variables."
   ]
  },
  {
   "cell_type": "markdown",
   "id": "9723277d-da4e-4998-9e25-55714d00671e",
   "metadata": {},
   "source": [
    " #### **Skewness and Kurtosis**"
   ]
  },
  {
   "cell_type": "code",
   "execution_count": 35,
   "id": "84923a91-dbb5-4536-8760-445921b42d19",
   "metadata": {},
   "outputs": [
    {
     "name": "stdout",
     "output_type": "stream",
     "text": [
      "Skewness:\n",
      " Quantity    0.005264\n",
      "Value       0.041444\n",
      "Weight      0.023325\n",
      "dtype: float64\n",
      "Kurtosis:\n",
      " Quantity   -1.187645\n",
      "Value      -1.195361\n",
      "Weight     -1.187072\n",
      "dtype: float64\n"
     ]
    }
   ],
   "source": [
    "# Skewness and Kurtosis\n",
    "skewness = non_categorical_df.skew()\n",
    "kurtosis = non_categorical_df.kurt()\n",
    "\n",
    "print(\"Skewness:\\n\", skewness)\n",
    "print(\"Kurtosis:\\n\", kurtosis)"
   ]
  },
  {
   "cell_type": "markdown",
   "id": "963800bd-5e5f-4f18-b971-8950d4587968",
   "metadata": {},
   "source": [
    "# Skewness Interpretation:\n",
    "All three values are very close to zero, indicating that the distributions of Quantity, Value, and Weight are approximately symmetrical.\n",
    "\n",
    "Quantity has very slight negative skewness, suggesting a very minor tendency for data to fall more frequently on the right side of the distribution.\n",
    "# Kurtosis Interpretation:\n",
    "Weight has a very slight negative skewness (not positive), indicating a minor tendency for data to fall more frequently on the right side of the distribution, rather than the left.\n",
    "\n",
    "All three values of kurtosis are negative, indicating that the distributions of Quantity, Value, and Weight have lighter tails and flatter peaks compared to a normal distribution. In other words, these distributions are more platykurtic.\n",
    "\n",
    "The negative kurtosis suggests that extreme values are less frequent, and the overall shape of the distribution is more flat-topped compared to a normal distribution."
   ]
  },
  {
   "cell_type": "markdown",
   "id": "eac68d14-8bd4-4eb6-9f12-02f41384d179",
   "metadata": {},
   "source": [
    "**Correlation between Non-Categorical Variables**"
   ]
  },
  {
   "cell_type": "code",
   "execution_count": 37,
   "id": "4d416be9-bfcd-43df-9c93-558bd55ae937",
   "metadata": {},
   "outputs": [
    {
     "name": "stdout",
     "output_type": "stream",
     "text": [
      "Correlation Matrix:\n",
      "           Quantity     Value    Weight\n",
      "Quantity  1.000000 -0.016623 -0.017002\n",
      "Value    -0.016623  1.000000 -0.022664\n",
      "Weight   -0.017002 -0.022664  1.000000\n"
     ]
    }
   ],
   "source": [
    "# Correlation Matrix\n",
    "correlation_matrix = non_categorical_df.corr()\n",
    "\n",
    "print(\"Correlation Matrix:\\n\", correlation_matrix)"
   ]
  },
  {
   "cell_type": "markdown",
   "id": "bafd0855-129a-4c05-bf00-599069c92e85",
   "metadata": {},
   "source": [
    "# Correlation Interpretation:\n",
    "\n",
    "All the correlation values are close to zero, indicating very weak or no linear relationships between the variables. Specifically:\n",
    "\n",
    "The correlation between Quantity and Value (-0.016623) is slightly negative, but close to zero, suggesting a very weak inverse relationship.\n",
    "The correlation between Quantity and Weight (-0.017002) and Value and Weight (-0.022664) are also near zero, implying no meaningful linear relationship.\n",
    "This suggests that Quantity, Value, and Weight behave largely independently, meaning that changes in one of these variables do not significantly affect the others. The lack of strong correlation indicates that the Quantity of goods transacted, their Value, and their Weight are likely influenced by different factors in the dataset."
   ]
  },
  {
   "cell_type": "markdown",
   "id": "6d3f3c53-b0f5-4e8b-ad67-3cc3b8e6e220",
   "metadata": {},
   "source": [
    "## **2.Categorical Data Analysis**"
   ]
  },
  {
   "cell_type": "markdown",
   "id": "2860df45-4451-408d-827c-2b410bb4368a",
   "metadata": {},
   "source": [
    "**Frequency Distribution for Categorical Data (e.g., Country, Product, Shipping_Method)**"
   ]
  },
  {
   "cell_type": "code",
   "execution_count": 40,
   "id": "38203a16-8b37-4d83-b1d0-b8f61f326221",
   "metadata": {},
   "outputs": [
    {
     "name": "stdout",
     "output_type": "stream",
     "text": [
      "\n",
      "Frequency Table for Country:\n",
      "\n"
     ]
    },
    {
     "data": {
      "text/html": [
       "<div>\n",
       "<style scoped>\n",
       "    .dataframe tbody tr th:only-of-type {\n",
       "        vertical-align: middle;\n",
       "    }\n",
       "\n",
       "    .dataframe tbody tr th {\n",
       "        vertical-align: top;\n",
       "    }\n",
       "\n",
       "    .dataframe thead th {\n",
       "        text-align: right;\n",
       "    }\n",
       "</style>\n",
       "<table border=\"1\" class=\"dataframe\">\n",
       "  <thead>\n",
       "    <tr style=\"text-align: right;\">\n",
       "      <th></th>\n",
       "      <th>Country</th>\n",
       "      <th>Frequency</th>\n",
       "    </tr>\n",
       "  </thead>\n",
       "  <tbody>\n",
       "    <tr>\n",
       "      <th>0</th>\n",
       "      <td>Congo</td>\n",
       "      <td>21</td>\n",
       "    </tr>\n",
       "    <tr>\n",
       "      <th>1</th>\n",
       "      <td>Kenya</td>\n",
       "      <td>20</td>\n",
       "    </tr>\n",
       "    <tr>\n",
       "      <th>2</th>\n",
       "      <td>Korea</td>\n",
       "      <td>18</td>\n",
       "    </tr>\n",
       "    <tr>\n",
       "      <th>3</th>\n",
       "      <td>Anguilla</td>\n",
       "      <td>17</td>\n",
       "    </tr>\n",
       "    <tr>\n",
       "      <th>4</th>\n",
       "      <td>Maldives</td>\n",
       "      <td>16</td>\n",
       "    </tr>\n",
       "    <tr>\n",
       "      <th>...</th>\n",
       "      <td>...</td>\n",
       "      <td>...</td>\n",
       "    </tr>\n",
       "    <tr>\n",
       "      <th>238</th>\n",
       "      <td>New Zealand</td>\n",
       "      <td>3</td>\n",
       "    </tr>\n",
       "    <tr>\n",
       "      <th>239</th>\n",
       "      <td>Chad</td>\n",
       "      <td>3</td>\n",
       "    </tr>\n",
       "    <tr>\n",
       "      <th>240</th>\n",
       "      <td>Cote d'Ivoire</td>\n",
       "      <td>2</td>\n",
       "    </tr>\n",
       "    <tr>\n",
       "      <th>241</th>\n",
       "      <td>Djibouti</td>\n",
       "      <td>2</td>\n",
       "    </tr>\n",
       "    <tr>\n",
       "      <th>242</th>\n",
       "      <td>French Polynesia</td>\n",
       "      <td>1</td>\n",
       "    </tr>\n",
       "  </tbody>\n",
       "</table>\n",
       "<p>243 rows × 2 columns</p>\n",
       "</div>"
      ],
      "text/plain": [
       "              Country  Frequency\n",
       "0               Congo         21\n",
       "1               Kenya         20\n",
       "2               Korea         18\n",
       "3            Anguilla         17\n",
       "4            Maldives         16\n",
       "..                ...        ...\n",
       "238       New Zealand          3\n",
       "239              Chad          3\n",
       "240     Cote d'Ivoire          2\n",
       "241          Djibouti          2\n",
       "242  French Polynesia          1\n",
       "\n",
       "[243 rows x 2 columns]"
      ]
     },
     "metadata": {},
     "output_type": "display_data"
    },
    {
     "name": "stdout",
     "output_type": "stream",
     "text": [
      "\n",
      "Frequency Table for Product:\n",
      "\n"
     ]
    },
    {
     "data": {
      "text/html": [
       "<div>\n",
       "<style scoped>\n",
       "    .dataframe tbody tr th:only-of-type {\n",
       "        vertical-align: middle;\n",
       "    }\n",
       "\n",
       "    .dataframe tbody tr th {\n",
       "        vertical-align: top;\n",
       "    }\n",
       "\n",
       "    .dataframe thead th {\n",
       "        text-align: right;\n",
       "    }\n",
       "</style>\n",
       "<table border=\"1\" class=\"dataframe\">\n",
       "  <thead>\n",
       "    <tr style=\"text-align: right;\">\n",
       "      <th></th>\n",
       "      <th>Product</th>\n",
       "      <th>Frequency</th>\n",
       "    </tr>\n",
       "  </thead>\n",
       "  <tbody>\n",
       "    <tr>\n",
       "      <th>0</th>\n",
       "      <td>realize</td>\n",
       "      <td>8</td>\n",
       "    </tr>\n",
       "    <tr>\n",
       "      <th>1</th>\n",
       "      <td>owner</td>\n",
       "      <td>8</td>\n",
       "    </tr>\n",
       "    <tr>\n",
       "      <th>2</th>\n",
       "      <td>mission</td>\n",
       "      <td>7</td>\n",
       "    </tr>\n",
       "    <tr>\n",
       "      <th>3</th>\n",
       "      <td>upon</td>\n",
       "      <td>7</td>\n",
       "    </tr>\n",
       "    <tr>\n",
       "      <th>4</th>\n",
       "      <td>cause</td>\n",
       "      <td>6</td>\n",
       "    </tr>\n",
       "    <tr>\n",
       "      <th>...</th>\n",
       "      <td>...</td>\n",
       "      <td>...</td>\n",
       "    </tr>\n",
       "    <tr>\n",
       "      <th>856</th>\n",
       "      <td>fight</td>\n",
       "      <td>1</td>\n",
       "    </tr>\n",
       "    <tr>\n",
       "      <th>857</th>\n",
       "      <td>foreign</td>\n",
       "      <td>1</td>\n",
       "    </tr>\n",
       "    <tr>\n",
       "      <th>858</th>\n",
       "      <td>south</td>\n",
       "      <td>1</td>\n",
       "    </tr>\n",
       "    <tr>\n",
       "      <th>859</th>\n",
       "      <td>build</td>\n",
       "      <td>1</td>\n",
       "    </tr>\n",
       "    <tr>\n",
       "      <th>860</th>\n",
       "      <td>money</td>\n",
       "      <td>1</td>\n",
       "    </tr>\n",
       "  </tbody>\n",
       "</table>\n",
       "<p>861 rows × 2 columns</p>\n",
       "</div>"
      ],
      "text/plain": [
       "     Product  Frequency\n",
       "0    realize          8\n",
       "1      owner          8\n",
       "2    mission          7\n",
       "3       upon          7\n",
       "4      cause          6\n",
       "..       ...        ...\n",
       "856    fight          1\n",
       "857  foreign          1\n",
       "858    south          1\n",
       "859    build          1\n",
       "860    money          1\n",
       "\n",
       "[861 rows x 2 columns]"
      ]
     },
     "metadata": {},
     "output_type": "display_data"
    },
    {
     "name": "stdout",
     "output_type": "stream",
     "text": [
      "\n",
      "Frequency Table for Shipping_Method:\n",
      "\n"
     ]
    },
    {
     "data": {
      "text/html": [
       "<div>\n",
       "<style scoped>\n",
       "    .dataframe tbody tr th:only-of-type {\n",
       "        vertical-align: middle;\n",
       "    }\n",
       "\n",
       "    .dataframe tbody tr th {\n",
       "        vertical-align: top;\n",
       "    }\n",
       "\n",
       "    .dataframe thead th {\n",
       "        text-align: right;\n",
       "    }\n",
       "</style>\n",
       "<table border=\"1\" class=\"dataframe\">\n",
       "  <thead>\n",
       "    <tr style=\"text-align: right;\">\n",
       "      <th></th>\n",
       "      <th>Shipping_Method</th>\n",
       "      <th>Frequency</th>\n",
       "    </tr>\n",
       "  </thead>\n",
       "  <tbody>\n",
       "    <tr>\n",
       "      <th>0</th>\n",
       "      <td>Air</td>\n",
       "      <td>675</td>\n",
       "    </tr>\n",
       "    <tr>\n",
       "      <th>1</th>\n",
       "      <td>Sea</td>\n",
       "      <td>668</td>\n",
       "    </tr>\n",
       "    <tr>\n",
       "      <th>2</th>\n",
       "      <td>Land</td>\n",
       "      <td>658</td>\n",
       "    </tr>\n",
       "  </tbody>\n",
       "</table>\n",
       "</div>"
      ],
      "text/plain": [
       "  Shipping_Method  Frequency\n",
       "0             Air        675\n",
       "1             Sea        668\n",
       "2            Land        658"
      ]
     },
     "metadata": {},
     "output_type": "display_data"
    },
    {
     "name": "stdout",
     "output_type": "stream",
     "text": [
      "\n",
      "Frequency Table for Import_Export:\n",
      "\n"
     ]
    },
    {
     "data": {
      "text/html": [
       "<div>\n",
       "<style scoped>\n",
       "    .dataframe tbody tr th:only-of-type {\n",
       "        vertical-align: middle;\n",
       "    }\n",
       "\n",
       "    .dataframe tbody tr th {\n",
       "        vertical-align: top;\n",
       "    }\n",
       "\n",
       "    .dataframe thead th {\n",
       "        text-align: right;\n",
       "    }\n",
       "</style>\n",
       "<table border=\"1\" class=\"dataframe\">\n",
       "  <thead>\n",
       "    <tr style=\"text-align: right;\">\n",
       "      <th></th>\n",
       "      <th>Import_Export</th>\n",
       "      <th>Frequency</th>\n",
       "    </tr>\n",
       "  </thead>\n",
       "  <tbody>\n",
       "    <tr>\n",
       "      <th>0</th>\n",
       "      <td>Import</td>\n",
       "      <td>1009</td>\n",
       "    </tr>\n",
       "    <tr>\n",
       "      <th>1</th>\n",
       "      <td>Export</td>\n",
       "      <td>992</td>\n",
       "    </tr>\n",
       "  </tbody>\n",
       "</table>\n",
       "</div>"
      ],
      "text/plain": [
       "  Import_Export  Frequency\n",
       "0        Import       1009\n",
       "1        Export        992"
      ]
     },
     "metadata": {},
     "output_type": "display_data"
    },
    {
     "name": "stdout",
     "output_type": "stream",
     "text": [
      "\n",
      "Frequency Table for Payment_Terms:\n",
      "\n"
     ]
    },
    {
     "data": {
      "text/html": [
       "<div>\n",
       "<style scoped>\n",
       "    .dataframe tbody tr th:only-of-type {\n",
       "        vertical-align: middle;\n",
       "    }\n",
       "\n",
       "    .dataframe tbody tr th {\n",
       "        vertical-align: top;\n",
       "    }\n",
       "\n",
       "    .dataframe thead th {\n",
       "        text-align: right;\n",
       "    }\n",
       "</style>\n",
       "<table border=\"1\" class=\"dataframe\">\n",
       "  <thead>\n",
       "    <tr style=\"text-align: right;\">\n",
       "      <th></th>\n",
       "      <th>Payment_Terms</th>\n",
       "      <th>Frequency</th>\n",
       "    </tr>\n",
       "  </thead>\n",
       "  <tbody>\n",
       "    <tr>\n",
       "      <th>0</th>\n",
       "      <td>Cash on Delivery</td>\n",
       "      <td>526</td>\n",
       "    </tr>\n",
       "    <tr>\n",
       "      <th>1</th>\n",
       "      <td>Prepaid</td>\n",
       "      <td>511</td>\n",
       "    </tr>\n",
       "    <tr>\n",
       "      <th>2</th>\n",
       "      <td>Net 60</td>\n",
       "      <td>500</td>\n",
       "    </tr>\n",
       "    <tr>\n",
       "      <th>3</th>\n",
       "      <td>Net 30</td>\n",
       "      <td>464</td>\n",
       "    </tr>\n",
       "  </tbody>\n",
       "</table>\n",
       "</div>"
      ],
      "text/plain": [
       "      Payment_Terms  Frequency\n",
       "0  Cash on Delivery        526\n",
       "1           Prepaid        511\n",
       "2            Net 60        500\n",
       "3            Net 30        464"
      ]
     },
     "metadata": {},
     "output_type": "display_data"
    }
   ],
   "source": [
    "# Frequency counts for categorical columns\n",
    "category_columns = ['Country', 'Product', 'Shipping_Method','Import_Export' , \"Payment_Terms\"]\n",
    "\n",
    "cat_data = sample[category_columns]  # Make sure your sample dataset is correct\n",
    "\n",
    "# Initializing an empty dictionary to store frequency tables\n",
    "frequency_tables = {}\n",
    "\n",
    "# Looping through each column and calculate the frequency table\n",
    "for col in category_columns:\n",
    "    if col in cat_data.columns:\n",
    "        # Calculating frequency using value_counts()\n",
    "        frequency_table = cat_data[col].value_counts().reset_index()\n",
    "        frequency_table.columns = [col, 'Frequency']\n",
    "        \n",
    "        # Storing the frequency table in the dictionary\n",
    "        frequency_tables[col] = frequency_table\n",
    "        \n",
    "        # Printing the frequency table for the column\n",
    "        print(f\"\\nFrequency Table for {col}:\\n\")\n",
    "        display(frequency_table)\n",
    "    else:\n",
    "        print(f\"Column '{col}' does not exist in the dataset.\")"
   ]
  },
  {
   "cell_type": "markdown",
   "id": "1c95846b-2629-4007-af6a-f50b78573570",
   "metadata": {},
   "source": [
    "# Frequency of Country:\n",
    "Top 3 Countries: Congo (21), Kenya (20), Korea (18)\n",
    "\n",
    "Least Frequent Countries: Some countries like Chad (3), Cote d'Ivoire (2), Djibouti (2) and French Polynesia (1) appear infrequently.\n",
    "\n",
    "# Frequency of Product:\n",
    "Top Products: Product \"realize\" and \"owner\" appeared most frequently (8 occurrences).\n",
    "\n",
    "Rare Products: Products like flight, foreign, south, build, money and few others are rare, appearing only once.\n",
    "\n",
    "With 861 unique products, this indicates a broad variety of products, but a few seem to dominate.\n",
    "\n",
    "# Frequency of Shipping Method:\n",
    "Air (675): Air shipping is the most common method.\n",
    "\n",
    "Sea (668) is the second most common method and Land (658) follows closely behind.\n",
    "\n",
    "This nearly even distribution of shipping methods suggests flexibility in shipping based on product or location requirements.\n",
    "\n",
    "# Frequency of Import/Export:\n",
    "Export (992): Slightly less transactions are that of exports than imports.\n",
    "\n",
    "Import (1009): The number of import transactions is more than exports.\n",
    "\n",
    "This balance indicates that the dataset contains a nearly equal mix of import and export transactions.\n",
    "\n",
    "# Frequency of Payment Terms:\n",
    "Cash on Delivery (526): The most common payment term is Cash on Delivery.\n",
    "\n",
    "Prepiad (511), Net 60 (500),  Net 30 (464) follow closely.\n",
    "\n",
    "The distribution of payment terms suggests that multiple methods are nearly equally preferred, with a dominant one that is Prepaid."
   ]
  },
  {
   "cell_type": "markdown",
   "id": "76dc0469",
   "metadata": {},
   "source": [
    "#### Cross - Tabulation ( Category vs Value and Quantity)"
   ]
  },
  {
   "cell_type": "code",
   "execution_count": 43,
   "id": "43bd185b",
   "metadata": {},
   "outputs": [
    {
     "data": {
      "text/html": [
       "<div>\n",
       "<style scoped>\n",
       "    .dataframe tbody tr th:only-of-type {\n",
       "        vertical-align: middle;\n",
       "    }\n",
       "\n",
       "    .dataframe tbody tr th {\n",
       "        vertical-align: top;\n",
       "    }\n",
       "\n",
       "    .dataframe thead th {\n",
       "        text-align: right;\n",
       "    }\n",
       "</style>\n",
       "<table border=\"1\" class=\"dataframe\">\n",
       "  <thead>\n",
       "    <tr style=\"text-align: right;\">\n",
       "      <th></th>\n",
       "      <th>Country</th>\n",
       "      <th>Avg_Value</th>\n",
       "      <th>Avg_Quantity</th>\n",
       "    </tr>\n",
       "  </thead>\n",
       "  <tbody>\n",
       "    <tr>\n",
       "      <th>1</th>\n",
       "      <td>French Polynesia</td>\n",
       "      <td>8620.13</td>\n",
       "      <td>1064.00</td>\n",
       "    </tr>\n",
       "    <tr>\n",
       "      <th>2</th>\n",
       "      <td>Cook Islands</td>\n",
       "      <td>8046.60</td>\n",
       "      <td>3339.25</td>\n",
       "    </tr>\n",
       "    <tr>\n",
       "      <th>3</th>\n",
       "      <td>Honduras</td>\n",
       "      <td>7574.41</td>\n",
       "      <td>4946.17</td>\n",
       "    </tr>\n",
       "    <tr>\n",
       "      <th>4</th>\n",
       "      <td>Jordan</td>\n",
       "      <td>7491.11</td>\n",
       "      <td>1210.00</td>\n",
       "    </tr>\n",
       "    <tr>\n",
       "      <th>5</th>\n",
       "      <td>Lebanon</td>\n",
       "      <td>7314.04</td>\n",
       "      <td>3643.25</td>\n",
       "    </tr>\n",
       "  </tbody>\n",
       "</table>\n",
       "</div>"
      ],
      "text/plain": [
       "            Country  Avg_Value  Avg_Quantity\n",
       "1  French Polynesia    8620.13       1064.00\n",
       "2      Cook Islands    8046.60       3339.25\n",
       "3          Honduras    7574.41       4946.17\n",
       "4            Jordan    7491.11       1210.00\n",
       "5           Lebanon    7314.04       3643.25"
      ]
     },
     "metadata": {},
     "output_type": "display_data"
    }
   ],
   "source": [
    "# Group by 'Country' and calculate the average for 'Value' and 'Quantity'\n",
    "country_avg = sample.groupby('Country').agg(\n",
    "    Avg_Value=('Value', 'mean'),\n",
    "    Avg_Quantity=('Quantity', 'mean')\n",
    ").reset_index()\n",
    "\n",
    "# Sort by 'Avg_Value' and 'Avg_Quantity' in descending order\n",
    "country_avg_sorted = country_avg.sort_values(by=['Avg_Value', 'Avg_Quantity'], ascending=False)\n",
    "\n",
    "# Get the top 5 countries with highest average value and quantity\n",
    "top_5_countries = country_avg_sorted.head(5)\n",
    "top_5_countries = np.round(top_5_countries.reset_index(drop=True),2)\n",
    "top_5_countries.index=top_5_countries.index+1\n",
    "\n",
    "\n",
    "# Display the resulting DataFrame\n",
    "                                                \n",
    "display(top_5_countries)"
   ]
  },
  {
   "cell_type": "markdown",
   "id": "ee6ddf49",
   "metadata": {},
   "source": [
    "### Key Observations & Analysis:\n",
    "\n",
    "#### **French Polynesia**\n",
    "\n",
    "**Average Value:** 8,620.13\n",
    "\n",
    "**Average Quantity:** 1,064.00\n",
    "\n",
    "The French Polynesia have the highest average transaction value among the top 5 countries. This indicates that the country deals with high-value goods in each transaction.\n",
    "\n",
    "\n",
    "#### **Cook Island**\n",
    "\n",
    "**Average Value:** 8,046.60\n",
    "\n",
    "**Average Quantity:** 3,339.25\n",
    "\n",
    "Cook Island has the second-highest average transaction value. The high quantity might be due to bulk imports or exports, as Antarctic logistics usually involve large consignments.\n",
    "\n",
    "\n",
    "#### **Honduras**\n",
    "\n",
    "**Average Value:** 7,574.41\n",
    "\n",
    "**Average Quantity:** 4,946.17\n",
    "\n",
    "Honduras’s average quantity is relatively high, but the value is lower compared to other countries on the list. This suggests that Norway may engage in low-value goods that require large volumes.\n",
    "\n",
    "\n",
    "#### **Jordan**\n",
    "\n",
    "**Average Value:** 7,491.11\n",
    "\n",
    "**Average Quantity:** 1,210.00\n",
    "\n",
    "Jordan’s average transaction value is also high, but with a lower quantity compared to other countries. This pattern could indicate trade in niche, high-value goods or materials.\n",
    "\n",
    "\n",
    "#### **Lebanon**\n",
    "\n",
    "**Average Value:** 7,314.04\n",
    "\n",
    "**Average Quantity:** 3,643.25\n",
    "\n",
    "Lebanon’s average value and quantity suggest a balanced trade, where both value and volume are significant."
   ]
  },
  {
   "cell_type": "markdown",
   "id": "e3be7643",
   "metadata": {},
   "source": [
    "#### Cross - Tabulation ( Maximum Weight in KGs by Shipping Method and Category)"
   ]
  },
  {
   "cell_type": "code",
   "execution_count": 47,
   "id": "c8aebc8b",
   "metadata": {},
   "outputs": [
    {
     "name": "stdout",
     "output_type": "stream",
     "text": [
      "\n",
      " Maximum Weight in KGs by Shipping Method and Category :\n"
     ]
    },
    {
     "data": {
      "text/html": [
       "<div>\n",
       "<style scoped>\n",
       "    .dataframe tbody tr th:only-of-type {\n",
       "        vertical-align: middle;\n",
       "    }\n",
       "\n",
       "    .dataframe tbody tr th {\n",
       "        vertical-align: top;\n",
       "    }\n",
       "\n",
       "    .dataframe thead th {\n",
       "        text-align: right;\n",
       "    }\n",
       "</style>\n",
       "<table border=\"1\" class=\"dataframe\">\n",
       "  <thead>\n",
       "    <tr style=\"text-align: right;\">\n",
       "      <th>Category</th>\n",
       "      <th>Clothing</th>\n",
       "      <th>Electronics</th>\n",
       "      <th>Furniture</th>\n",
       "      <th>Machinery</th>\n",
       "      <th>Toys</th>\n",
       "    </tr>\n",
       "    <tr>\n",
       "      <th>Shipping_Method</th>\n",
       "      <th></th>\n",
       "      <th></th>\n",
       "      <th></th>\n",
       "      <th></th>\n",
       "      <th></th>\n",
       "    </tr>\n",
       "  </thead>\n",
       "  <tbody>\n",
       "    <tr>\n",
       "      <th>Air</th>\n",
       "      <td>4885.36</td>\n",
       "      <td>4970.67</td>\n",
       "      <td>4992.64</td>\n",
       "      <td>4968.89</td>\n",
       "      <td>4999.93</td>\n",
       "    </tr>\n",
       "    <tr>\n",
       "      <th>Land</th>\n",
       "      <td>4994.90</td>\n",
       "      <td>4921.99</td>\n",
       "      <td>4932.57</td>\n",
       "      <td>4949.41</td>\n",
       "      <td>4980.94</td>\n",
       "    </tr>\n",
       "    <tr>\n",
       "      <th>Sea</th>\n",
       "      <td>4976.66</td>\n",
       "      <td>4928.42</td>\n",
       "      <td>4981.21</td>\n",
       "      <td>4983.09</td>\n",
       "      <td>4980.31</td>\n",
       "    </tr>\n",
       "  </tbody>\n",
       "</table>\n",
       "</div>"
      ],
      "text/plain": [
       "Category         Clothing  Electronics  Furniture  Machinery     Toys\n",
       "Shipping_Method                                                      \n",
       "Air               4885.36      4970.67    4992.64    4968.89  4999.93\n",
       "Land              4994.90      4921.99    4932.57    4949.41  4980.94\n",
       "Sea               4976.66      4928.42    4981.21    4983.09  4980.31"
      ]
     },
     "metadata": {},
     "output_type": "display_data"
    }
   ],
   "source": [
    "print(\"\\n Maximum Weight in KGs by Shipping Method and Category :\")\n",
    "\n",
    "cross_table_max_weight = sample.pivot_table(\n",
    "    index='Shipping_Method',\n",
    "    columns='Category',\n",
    "    values='Weight',\n",
    "    aggfunc='max'\n",
    ")\n",
    "\n",
    "# Display the resulting pivot table\n",
    "display(cross_table_max_weight)"
   ]
  },
  {
   "cell_type": "markdown",
   "id": "f1094913",
   "metadata": {},
   "source": [
    "**Key Observations:**\n",
    "\n",
    "-   **Category:** The maximum weight allowed varies across different product categories.\n",
    "-   **Shipping Method:** The maximum weight also differs depending on the shipping method used.\n",
    "-   **Overall Trend:** There is a general trend where the maximum weight for each category is relatively similar across different shipping methods, with minor variations.\n",
    "\n",
    "**Specific Insights:**\n",
    "\n",
    "-   **Clothing:** The maximum weight for clothing is consistently around 4880-5000 kgs, regardless of the shipping method.\n",
    "-   **Electronics:** Electronics also have a consistent maximum weight range of 4920-5000 kgs across different methods.\n",
    "-   **Furniture:** Furniture shows a slight variation, with the highest maximum weight being slightly lower for land shipping (4932.57 kgs) compared to air and sea (around 4980-4990 kgs).\n",
    "-   **Machinery:** Machinery has the highest maximum weight for sea shipping (4983.09 kgs), while land and air shipping have similar maximum weights around 4940-4970 kgs.\n",
    "-   **Toys:** Toys have a consistent maximum weight of around 4980-5000 kgs across all shipping methods.\n",
    "\n",
    "**Possible Explanations:**\n",
    "\n",
    "-   **Dimensional Constraints:** The maximum weight limits might be influenced by factors such as the size and shape of shipping containers or the capacity of transportation vehicles.\n",
    "-   **Weight-to-Value Ratio:** Products with higher value-to-weight ratios (e.g., electronics) might have stricter weight limits due to their sensitivity or potential for theft.\n",
    "-   **Shipping Method Characteristics:** Air shipping might have slightly higher weight limits for certain categories due to its faster transit times and reduced handling."
   ]
  },
  {
   "cell_type": "markdown",
   "id": "2ef91e07",
   "metadata": {},
   "source": [
    "#### Cross - Tabulation ( Count of products by their payment terms per Category)"
   ]
  },
  {
   "cell_type": "code",
   "execution_count": 50,
   "id": "a194fdf6",
   "metadata": {},
   "outputs": [
    {
     "name": "stdout",
     "output_type": "stream",
     "text": [
      "\n",
      " Count of products by their payment terms per Category :\n"
     ]
    },
    {
     "data": {
      "text/html": [
       "<style type=\"text/css\">\n",
       "</style>\n",
       "<table id=\"T_171b2\">\n",
       "  <thead>\n",
       "    <tr>\n",
       "      <th class=\"index_name level0\" >Payment_Terms</th>\n",
       "      <th id=\"T_171b2_level0_col0\" class=\"col_heading level0 col0\" >Cash on Delivery</th>\n",
       "      <th id=\"T_171b2_level0_col1\" class=\"col_heading level0 col1\" >Net 30</th>\n",
       "      <th id=\"T_171b2_level0_col2\" class=\"col_heading level0 col2\" >Net 60</th>\n",
       "      <th id=\"T_171b2_level0_col3\" class=\"col_heading level0 col3\" >Prepaid</th>\n",
       "    </tr>\n",
       "    <tr>\n",
       "      <th class=\"index_name level0\" >Category</th>\n",
       "      <th class=\"blank col0\" >&nbsp;</th>\n",
       "      <th class=\"blank col1\" >&nbsp;</th>\n",
       "      <th class=\"blank col2\" >&nbsp;</th>\n",
       "      <th class=\"blank col3\" >&nbsp;</th>\n",
       "    </tr>\n",
       "  </thead>\n",
       "  <tbody>\n",
       "    <tr>\n",
       "      <th id=\"T_171b2_level0_row0\" class=\"row_heading level0 row0\" >Clothing</th>\n",
       "      <td id=\"T_171b2_row0_col0\" class=\"data row0 col0\" >112</td>\n",
       "      <td id=\"T_171b2_row0_col1\" class=\"data row0 col1\" >86</td>\n",
       "      <td id=\"T_171b2_row0_col2\" class=\"data row0 col2\" >119</td>\n",
       "      <td id=\"T_171b2_row0_col3\" class=\"data row0 col3\" >103</td>\n",
       "    </tr>\n",
       "    <tr>\n",
       "      <th id=\"T_171b2_level0_row1\" class=\"row_heading level0 row1\" >Electronics</th>\n",
       "      <td id=\"T_171b2_row1_col0\" class=\"data row1 col0\" >86</td>\n",
       "      <td id=\"T_171b2_row1_col1\" class=\"data row1 col1\" >93</td>\n",
       "      <td id=\"T_171b2_row1_col2\" class=\"data row1 col2\" >90</td>\n",
       "      <td id=\"T_171b2_row1_col3\" class=\"data row1 col3\" >91</td>\n",
       "    </tr>\n",
       "    <tr>\n",
       "      <th id=\"T_171b2_level0_row2\" class=\"row_heading level0 row2\" >Furniture</th>\n",
       "      <td id=\"T_171b2_row2_col0\" class=\"data row2 col0\" >113</td>\n",
       "      <td id=\"T_171b2_row2_col1\" class=\"data row2 col1\" >97</td>\n",
       "      <td id=\"T_171b2_row2_col2\" class=\"data row2 col2\" >104</td>\n",
       "      <td id=\"T_171b2_row2_col3\" class=\"data row2 col3\" >101</td>\n",
       "    </tr>\n",
       "    <tr>\n",
       "      <th id=\"T_171b2_level0_row3\" class=\"row_heading level0 row3\" >Machinery</th>\n",
       "      <td id=\"T_171b2_row3_col0\" class=\"data row3 col0\" >110</td>\n",
       "      <td id=\"T_171b2_row3_col1\" class=\"data row3 col1\" >104</td>\n",
       "      <td id=\"T_171b2_row3_col2\" class=\"data row3 col2\" >94</td>\n",
       "      <td id=\"T_171b2_row3_col3\" class=\"data row3 col3\" >108</td>\n",
       "    </tr>\n",
       "    <tr>\n",
       "      <th id=\"T_171b2_level0_row4\" class=\"row_heading level0 row4\" >Toys</th>\n",
       "      <td id=\"T_171b2_row4_col0\" class=\"data row4 col0\" >105</td>\n",
       "      <td id=\"T_171b2_row4_col1\" class=\"data row4 col1\" >84</td>\n",
       "      <td id=\"T_171b2_row4_col2\" class=\"data row4 col2\" >93</td>\n",
       "      <td id=\"T_171b2_row4_col3\" class=\"data row4 col3\" >108</td>\n",
       "    </tr>\n",
       "  </tbody>\n",
       "</table>\n"
      ],
      "text/plain": [
       "<pandas.io.formats.style.Styler at 0x241ec6c3e00>"
      ]
     },
     "execution_count": 50,
     "metadata": {},
     "output_type": "execute_result"
    }
   ],
   "source": [
    "print(\"\\n Count of products by their payment terms per Category :\")\n",
    "\n",
    "# Create pivot table with count of 'Products' for each category and payment term\n",
    "pivot_table = sample.pivot_table(\n",
    "    values='Product',\n",
    "    index='Category',\n",
    "    columns='Payment_Terms',\n",
    "    aggfunc='count'\n",
    ")\n",
    "\n",
    "# Display the pivot table with formatted output\n",
    "pivot_table.style.format({\n",
    "    '': '{:,.0f}'  # Format all values (product counts) with commas and no decimal places\n",
    "})"
   ]
  },
  {
   "cell_type": "markdown",
   "id": "f348db94",
   "metadata": {},
   "source": [
    "## **Observation 1: Payment Term Distribution**\n",
    "\n",
    "- Cash on Delivery (COD) and Net 30 are the dominant payment terms across all categories, suggesting they are the most preferred or accepted options in this context.\n",
    "- Net 60 and Prepaid are less frequently used, possibly due to factors like credit risk, cash flow concerns, or supplier preferences.\n",
    "\n",
    "**Possible Explanation:**\n",
    "- COD: This payment term might be favored for smaller transactions, immediate delivery, or customers with limited credit access. It can also reduce the risk of non-payment for the seller.\n",
    "- Net 30: This term offers customers a short grace period to manage their finances while still providing the seller with reasonable payment terms. It might be preferred for larger transactions or established business relationships.\n",
    "- Net 60 and Prepaid: These terms might be less common due to factors like credit risk, cash flow management, or supplier policies. Net 60 could be offered to creditworthy customers or as part of special promotions, while prepaid might be required for certain products or services.\n",
    "## **Observation 2: Category Variations**\n",
    "\n",
    "- Clothing has a slightly higher proportion of COD transactions, which could be attributed to its lower value and the convenience of paying upon receipt.\n",
    "- Electronics and Machinery show a preference for Net 30, possibly due to their higher value and the need for customers to manage their cash flow.\n",
    "- Furniture has a more balanced distribution of payment terms, likely reflecting its moderate value and varying customer preferences.\n",
    "\n",
    "**Possible Explanation:**\n",
    "\n",
    "- Product Value: Higher-value products like Electronics and Machinery might be more likely to be purchased on credit (Net 30) to allow customers to spread payments over time.\n",
    "- Customer Preferences: Different customer demographics or buying behaviors might influence payment term preferences within specific categories.\n",
    "## **Observation 3: Prepaid**\n",
    "\n",
    "Prepaid is relatively infrequent across all categories, suggesting it might be used primarily for special offers, subscription services, or specific customer requirements.\n",
    "\n",
    "**Possible Explanation:**\n",
    "\n",
    "- Supplier Policies: Some suppliers might require prepaid payments for certain products or services, especially for new customers or those with a history of late payments.\n",
    "- Customer Preferences: A small percentage of customers might prefer to pay upfront for various reasons, such as discounts, security, or avoiding future payments."
   ]
  },
  {
   "cell_type": "markdown",
   "id": "3b05e564",
   "metadata": {},
   "source": [
    "### Rank categories based on the most preferred Category(i.e., highest total economic impact)"
   ]
  },
  {
   "cell_type": "code",
   "execution_count": 59,
   "id": "522e17db",
   "metadata": {},
   "outputs": [
    {
     "data": {
      "text/html": [
       "<div>\n",
       "<style scoped>\n",
       "    .dataframe tbody tr th:only-of-type {\n",
       "        vertical-align: middle;\n",
       "    }\n",
       "\n",
       "    .dataframe tbody tr th {\n",
       "        vertical-align: top;\n",
       "    }\n",
       "\n",
       "    .dataframe thead th {\n",
       "        text-align: right;\n",
       "    }\n",
       "</style>\n",
       "<table border=\"1\" class=\"dataframe\">\n",
       "  <thead>\n",
       "    <tr style=\"text-align: right;\">\n",
       "      <th></th>\n",
       "      <th>Total Economic Impact in $</th>\n",
       "      <th>Rank</th>\n",
       "    </tr>\n",
       "    <tr>\n",
       "      <th>Category</th>\n",
       "      <th></th>\n",
       "      <th></th>\n",
       "    </tr>\n",
       "  </thead>\n",
       "  <tbody>\n",
       "    <tr>\n",
       "      <th>Furniture</th>\n",
       "      <td>2132297.67</td>\n",
       "      <td>1.0</td>\n",
       "    </tr>\n",
       "    <tr>\n",
       "      <th>Machinery</th>\n",
       "      <td>2105921.72</td>\n",
       "      <td>2.0</td>\n",
       "    </tr>\n",
       "    <tr>\n",
       "      <th>Clothing</th>\n",
       "      <td>2049344.72</td>\n",
       "      <td>3.0</td>\n",
       "    </tr>\n",
       "    <tr>\n",
       "      <th>Toys</th>\n",
       "      <td>1892828.75</td>\n",
       "      <td>4.0</td>\n",
       "    </tr>\n",
       "    <tr>\n",
       "      <th>Electronics</th>\n",
       "      <td>1814022.22</td>\n",
       "      <td>5.0</td>\n",
       "    </tr>\n",
       "  </tbody>\n",
       "</table>\n",
       "</div>"
      ],
      "text/plain": [
       "             Total Economic Impact in $  Rank\n",
       "Category                                     \n",
       "Furniture                    2132297.67   1.0\n",
       "Machinery                    2105921.72   2.0\n",
       "Clothing                     2049344.72   3.0\n",
       "Toys                         1892828.75   4.0\n",
       "Electronics                  1814022.22   5.0"
      ]
     },
     "metadata": {},
     "output_type": "display_data"
    }
   ],
   "source": [
    "# Rank categories by the total economic impact (Value), higher value gets a higher rank\n",
    "economic_impact = sample.groupby('Category')['Value'].sum()\n",
    "\n",
    "# Rank the categories based on the summed Value in descending order (most preferred = rank 1)\n",
    "economic_impact_rank = economic_impact.rank(ascending=False, method='dense')\n",
    "\n",
    "# Combine the economic impact values and their rank into a DataFrame for better display\n",
    "economic_impact_rank_df = pd.DataFrame({\n",
    "    'Total Economic Impact in $': economic_impact,\n",
    "    'Rank': economic_impact_rank\n",
    "}).sort_values(by='Rank')\n",
    "\n",
    "# Display the DataFrame\n",
    "display(economic_impact_rank_df)\n"
   ]
  },
  {
   "cell_type": "markdown",
   "id": "3285a01d",
   "metadata": {},
   "source": [
    "## **Observation 1: Total Economic Impact**\n",
    "\n",
    "- The table ranks five product categories based on their total economic impact in dollars.\n",
    "- Furniture has the highest economic impact, followed by Machinery, Clothing, Toys, and Electronics.\n",
    "\n",
    "**Possible Explanation:**\n",
    "\n",
    "- Product Value: Furniture and Machinery might have higher unit prices or require more complex manufacturing processes, leading to a greater economic impact.\n",
    "- Market Demand: Categories with higher demand or larger market sizes could also contribute to a greater economic impact.\n",
    "- Supply Chain Factors: Factors like production costs, distribution channels, and employment levels could influence the economic impact of each category.\n",
    "## **Observation 2: Ranking**\n",
    "\n",
    "- The categories are ranked from 1 to 5, with 1 representing the highest economic impact.\n",
    "- Furniture and Machinery are closely ranked, suggesting a relatively small difference in their economic impact.\n",
    "\n",
    "**Possible Explanation:**\n",
    "\n",
    "- Market Dynamics: Both Furniture and Machinery might be influenced by similar market trends, economic conditions, or technological advancements, leading to a similar economic impact.\n",
    "## **Observation 3: Clothing and Electronics**\n",
    "\n",
    "Clothing and Electronics have a lower economic impact compared to Furniture and Machinery.\n",
    "\n",
    "**Possible Explanation:**\n",
    "\n",
    "- Product Characteristics: Clothing and Electronics might have lower unit prices, simpler manufacturing processes, or shorter supply chains, leading to a lower economic impact.\n",
    "- Competition: Increased competition in these categories could also contribute to lower economic impact.\n",
    "## **Additional Considerations:**\n",
    "\n",
    "- Data Source and Methodology: The specific data source and methodology used to calculate the economic impact would provide more insights into the underlying factors influencing the rankings.\n",
    "- Time Period: The economic impact might vary over time due to changes in market conditions, consumer preferences, or technological advancements."
   ]
  },
  {
   "cell_type": "markdown",
   "id": "aa2bea80-fd20-43d1-9b89-908e23bf404b",
   "metadata": {},
   "source": [
    "**Cross-Tabulation ( Country vs Import_Export)**"
   ]
  },
  {
   "cell_type": "code",
   "execution_count": 62,
   "id": "64eca280-ca7e-427a-91ef-2e51cf2d14cd",
   "metadata": {},
   "outputs": [
    {
     "data": {
      "text/plain": [
       "'Cross-tabulation of Country vs Import/Export: '"
      ]
     },
     "metadata": {},
     "output_type": "display_data"
    },
    {
     "data": {
      "text/html": [
       "<div>\n",
       "<style scoped>\n",
       "    .dataframe tbody tr th:only-of-type {\n",
       "        vertical-align: middle;\n",
       "    }\n",
       "\n",
       "    .dataframe tbody tr th {\n",
       "        vertical-align: top;\n",
       "    }\n",
       "\n",
       "    .dataframe thead th {\n",
       "        text-align: right;\n",
       "    }\n",
       "</style>\n",
       "<table border=\"1\" class=\"dataframe\">\n",
       "  <thead>\n",
       "    <tr style=\"text-align: right;\">\n",
       "      <th>Import_Export</th>\n",
       "      <th>Export</th>\n",
       "      <th>Import</th>\n",
       "    </tr>\n",
       "    <tr>\n",
       "      <th>Country</th>\n",
       "      <th></th>\n",
       "      <th></th>\n",
       "    </tr>\n",
       "  </thead>\n",
       "  <tbody>\n",
       "    <tr>\n",
       "      <th>Afghanistan</th>\n",
       "      <td>1</td>\n",
       "      <td>3</td>\n",
       "    </tr>\n",
       "    <tr>\n",
       "      <th>Albania</th>\n",
       "      <td>3</td>\n",
       "      <td>5</td>\n",
       "    </tr>\n",
       "    <tr>\n",
       "      <th>Algeria</th>\n",
       "      <td>5</td>\n",
       "      <td>4</td>\n",
       "    </tr>\n",
       "    <tr>\n",
       "      <th>American Samoa</th>\n",
       "      <td>6</td>\n",
       "      <td>5</td>\n",
       "    </tr>\n",
       "    <tr>\n",
       "      <th>Andorra</th>\n",
       "      <td>3</td>\n",
       "      <td>2</td>\n",
       "    </tr>\n",
       "  </tbody>\n",
       "</table>\n",
       "</div>"
      ],
      "text/plain": [
       "Import_Export   Export  Import\n",
       "Country                       \n",
       "Afghanistan          1       3\n",
       "Albania              3       5\n",
       "Algeria              5       4\n",
       "American Samoa       6       5\n",
       "Andorra              3       2"
      ]
     },
     "metadata": {},
     "output_type": "display_data"
    }
   ],
   "source": [
    "# Cross-tabulation of categorical variables\n",
    "country_vs_import_export = pd.crosstab(sample['Country'], sample['Import_Export']).head()\n",
    "\n",
    "display(\"Cross-tabulation of Country vs Import/Export: \", country_vs_import_export)"
   ]
  },
  {
   "cell_type": "markdown",
   "id": "a4382045-e06d-46ee-bd8f-609a5acd97ca",
   "metadata": {},
   "source": [
    "# Top 5 Countries in Import/Export:\n",
    "## **Observation 1: Import and Export Data**\n",
    "\n",
    "- The table provides data on imports and exports for five countries: Afghanistan, Albania, Algeria, American Samoa, and Andorra.\n",
    "- The values in the \"Export\" and \"Import\" columns represent the time each country traded.\n",
    "- \n",
    "**Possible Explanation:**\n",
    "\n",
    "- The data could be used to analyze trade patterns, trade imbalances, and economic relationships between these countries.\n",
    "## **Observation 2: Export and Import Values**\n",
    "\n",
    "- There is variation in the export and import values across the countries.\n",
    "- For example, Afghanistan has higher import than export, while Algeria has higher export than import.\n",
    " \n",
    "**Possible Explanation:**\n",
    "\n",
    "These variations could be due to factors such as:\n",
    "- Resource endowments: Countries with abundant natural resources might have higher export values.\n",
    "- Economic development: Developed economies might have higher import values due to greater consumer demand and industrial needs.\n",
    "- Trade policies: Tariffs, quotas, and other trade barriers can influence import and export values.\n",
    "- Geopolitical factors: Political instability, conflicts, or sanctions can disrupt trade flows.\n",
    "## **Observation 3: Country Rankings**\n",
    "\n",
    "The countries could be ranked based on their total trade volume (exports + imports) or their trade balance (exports - imports).\n",
    "\n",
    "**Possible Explanation:**\n",
    "\n",
    "Ranking the countries could help identify the most important trading partners and assess the relative strength of their economies."
   ]
  },
  {
   "cell_type": "markdown",
   "id": "100cb7ce-83c0-417f-a59a-b00b559d5f98",
   "metadata": {},
   "source": [
    "**Inferential Statistics**"
   ]
  },
  {
   "cell_type": "code",
   "execution_count": 66,
   "id": "ce6000a9-cf8a-4af6-baf6-1e0a0c3d641d",
   "metadata": {},
   "outputs": [
    {
     "name": "stdout",
     "output_type": "stream",
     "text": [
      "t-statistic: -1.401\n",
      "p-value: 0.161\n"
     ]
    }
   ],
   "source": [
    "from scipy import stats\n",
    "\n",
    "# Subsetting data for imports and exports\n",
    "import_data = sample[sample['Import_Export'] == 'Import']['Value']\n",
    "export_data = sample[sample['Import_Export'] == 'Export']['Value']\n",
    "\n",
    "# t-test to compare means of import vs export values\n",
    "t_stat, p_value = np.round(stats.ttest_ind(import_data, export_data),3)\n",
    "\n",
    "print(\"t-statistic:\", t_stat)\n",
    "print(\"p-value:\", p_value)"
   ]
  },
  {
   "cell_type": "markdown",
   "id": "67ac5208-2b52-45b4-9868-5edf79d8ca75",
   "metadata": {},
   "source": [
    "**Chi-Square Test for Categorical Variables ( Country vs Import_Export)**"
   ]
  },
  {
   "cell_type": "code",
   "execution_count": 68,
   "id": "c85ea1d7-adf9-4d9c-8973-092387b4cd41",
   "metadata": {},
   "outputs": [
    {
     "name": "stdout",
     "output_type": "stream",
     "text": [
      "Chi-squared Statistic: 213.2862449325744\n",
      "p-value: 0.9082520458538076\n"
     ]
    }
   ],
   "source": [
    "# Chi-squared test of independence between Country and Import_Export\n",
    "contingency_table = pd.crosstab(sample['Country'], sample['Import_Export'])\n",
    "chi2_stat, p_val, dof, ex = stats.chi2_contingency(contingency_table)\n",
    "\n",
    "print(\"Chi-squared Statistic:\", chi2_stat)\n",
    "print(\"p-value:\", p_val)"
   ]
  },
  {
   "cell_type": "markdown",
   "id": "c8c092ed-fea7-48d3-b5b8-7d2856b3b89b",
   "metadata": {},
   "source": [
    "**ANOVA (Compare Value Across Different Product Categories)**"
   ]
  },
  {
   "cell_type": "code",
   "execution_count": 70,
   "id": "cdb581b3-942f-44d0-a130-3154d4d0a019",
   "metadata": {},
   "outputs": [
    {
     "name": "stdout",
     "output_type": "stream",
     "text": [
      "ANOVA F-statistic: 0.9985589305351551\n",
      "p-value: 0.5078145629758157\n"
     ]
    }
   ],
   "source": [
    "product_groups = [group['Value'].values for name, group in sample.groupby('Product')]\n",
    "\n",
    "f_stat, p_value = stats.f_oneway(*product_groups)\n",
    "\n",
    "print(\"ANOVA F-statistic:\", f_stat)\n",
    "print(\"p-value:\", p_value)"
   ]
  },
  {
   "cell_type": "markdown",
   "id": "e065b180-e0aa-48fa-aa79-0cc00711a4fb",
   "metadata": {},
   "source": [
    "##  **Visualization**"
   ]
  },
  {
   "cell_type": "code",
   "execution_count": 72,
   "id": "5c098c4c-10da-416b-ad4e-b57b0f453cb3",
   "metadata": {},
   "outputs": [
    {
     "data": {
      "image/png": "[encoded data removed]",
      "text/plain": [
       "<Figure size 640x480 with 1 Axes>"
      ]
     },
     "metadata": {},
     "output_type": "display_data"
    }
   ],
   "source": [
    "\n",
    "# Getting the top 10 categories by frequency or total value\n",
    "top_10_categories = sample['Product'].value_counts().nlargest(10).index\n",
    "\n",
    "# Filtering the DataFrame to only include the top 10 categories\n",
    "top_10_sample = sample[sample['Product'].isin(top_10_categories)]\n",
    "\n",
    "# Boxplot for value based on top 10 product categories\n",
    "sns.boxplot(x='Product', y='Value', data=top_10_sample)\n",
    "plt.title('Boxplot of Value by Top 10 Products')\n",
    "plt.xticks(rotation=90)\n",
    "plt.show()"
   ]
  },
  {
   "cell_type": "markdown",
   "id": "2147af8d-b30b-4db8-812a-0539520a0778",
   "metadata": {},
   "source": [
    "**Scatter Plot of Quantity vs Value**"
   ]
  },
  {
   "cell_type": "code",
   "execution_count": 74,
   "id": "c5537336-ed12-45e3-9d08-38b38009d9f0",
   "metadata": {},
   "outputs": [
    {
     "data": {
      "image/png": "[encoded data removed]",
      "text/plain": [
       "<Figure size 640x480 with 1 Axes>"
      ]
     },
     "metadata": {},
     "output_type": "display_data"
    }
   ],
   "source": [
    "# Scatter plot of Quantity vs Value\n",
    "plt.scatter(sample['Quantity'], sample['Value'],color='yellow')\n",
    "plt.title('Scatter Plot of Quantity vs Value')\n",
    "plt.xlabel('Quantity')\n",
    "plt.ylabel('Value')\n",
    "plt.show()"
   ]
  },
  {
   "cell_type": "markdown",
   "id": "d30bb7f4-1707-4fa3-a47f-0b283963be02",
   "metadata": {},
   "source": [
    "**Pie Chart for Payment Terms**"
   ]
  },
  {
   "cell_type": "code",
   "execution_count": 76,
   "id": "4557f7ea-379f-4e0a-ad9c-f050c7fcb6b9",
   "metadata": {},
   "outputs": [
    {
     "data": {
      "image/png": "[encoded data removed]",
      "text/plain": [
       "<Figure size 640x480 with 1 Axes>"
      ]
     },
     "metadata": {},
     "output_type": "display_data"
    }
   ],
   "source": [
    "prepaid = 0 \n",
    "net30 = 0\n",
    "cod = 0\n",
    "net60 = 0\n",
    "\n",
    "# Loop to count payment terms\n",
    "for i in range(len(sample['Payment_Terms'])):\n",
    "    payment_term = sample['Payment_Terms'].iloc[i] \n",
    "    \n",
    "    if payment_term == 'Prepaid':\n",
    "        prepaid += 1  # Increment the count for prepaid\n",
    "    elif payment_term == 'Net 30':\n",
    "        net30 += 1  # Increment the count for Net 30\n",
    "    elif payment_term == 'Cash on Delivery':\n",
    "        cod += 1  # Increment the count for Cash on Delivery\n",
    "    elif payment_term == 'Net 60':\n",
    "        net60 += 1  # Increment the count for Net 60\n",
    "\n",
    "# Data for pie plot\n",
    "Payment_Terms = [prepaid, net30, cod, net60]\n",
    "labels = ['Prepaid', 'Net 30', 'Cash on Delivery', 'Net 60']\n",
    "\n",
    "# Creating pie plot with percentage labels\n",
    "plt.pie(Payment_Terms, labels=labels, autopct=lambda p: f'{p:.2f}%')\n",
    "plt.title('Pie Plot of Payment Terms')\n",
    "plt.show()"
   ]
  },
  {
   "cell_type": "markdown",
   "id": "cfbf6652-ed5d-44c1-9f60-13be81859f21",
   "metadata": {},
   "source": [
    "Through pie chart we can say that all 4 payment terms are more or less are equally preferred during the transactions \n",
    "The highly preferred one is CAh on Delivery with 26.29% of the total weightage."
   ]
  },
  {
   "cell_type": "markdown",
   "id": "5b5f0b6b-18cb-4e99-bd46-85ebd3cf57a2",
   "metadata": {},
   "source": [
    "**Histogram of Value**"
   ]
  },
  {
   "cell_type": "code",
   "execution_count": 81,
   "id": "67f49450-f86d-451a-a6cd-11a40def8b6a",
   "metadata": {},
   "outputs": [
    {
     "data": {
      "image/png": "[encoded data removed]",
      "text/plain": [
       "<Figure size 640x480 with 1 Axes>"
      ]
     },
     "metadata": {},
     "output_type": "display_data"
    }
   ],
   "source": [
    "# Histogram of the 'Value' column\n",
    "plt.hist(sample['Value'], bins=20, edgecolor='k',color='green')\n",
    "plt.title('Histogram of Transaction Values')\n",
    "plt.xlabel('Value')\n",
    "plt.ylabel('Frequency')\n",
    "plt.show()"
   ]
  },
  {
   "cell_type": "markdown",
   "id": "cb5d6134-d50b-4e68-8502-599eb3f03fec",
   "metadata": {},
   "source": [
    "# NON-CATEGORICAL DATA"
   ]
  },
  {
   "cell_type": "markdown",
   "id": "011429e6-8c01-48ac-a446-39e572431c7c",
   "metadata": {},
   "source": [
    "# COMPOSITE MEASURE"
   ]
  },
  {
   "cell_type": "code",
   "execution_count": 83,
   "id": "9d2647f5-6acd-4dc6-a2fb-107b6fa850a8",
   "metadata": {},
   "outputs": [
    {
     "name": "stdout",
     "output_type": "stream",
     "text": [
      "Coefficient of variation for Quantity :  0.570323068185582\n",
      "Coefficient of variation for Value :  0.572953699088633\n",
      "Coefficient of variation for Weight :  0.5760526218094241\n"
     ]
    }
   ],
   "source": [
    "import statistics as stats\n",
    "\n",
    "# coefficient of quantity\n",
    "Coeff_Var_Quantity = stats.stdev(non_categorical_df['Quantity'])/stats.mean(non_categorical_df['Quantity'])\n",
    "print('Coefficient of variation for Quantity : ', Coeff_Var_Quantity)\n",
    "\n",
    "Coeff_Var_Value = stats.stdev(non_categorical_df['Value'])/stats.mean(non_categorical_df['Value'])\n",
    "print('Coefficient of variation for Value : ', Coeff_Var_Value)\n",
    "\n",
    "# coefficient of weight\n",
    "Coeff_Var_Weight = stats.stdev(non_categorical_df['Weight'])/stats.mean(non_categorical_df['Weight'])\n",
    "print('Coefficient of variation for Weight : ', Coeff_Var_Weight) "
   ]
  },
  {
   "cell_type": "markdown",
   "id": "d125249d-cc51-487f-ab47-56c6594fa7f4",
   "metadata": {},
   "source": [
    "Coefficient of variation tells us about how much the variability is present within the dataset,\n",
    "So here we have:\n",
    "\n",
    "# QUANTITY:\n",
    "Quantities have variation of 0.570323068185582\n",
    "This implies that  ->\n",
    "1. Quantities are spread out around the mean by approx 57.03% of the mean value.\n",
    "2. They are not to much clustered around the mean but have different quantities' ranges.\n",
    "\n",
    "# VALUE: \n",
    "Values have variation of 0.572953699088633\n",
    "This implies that ->\n",
    "1. Values are spread around the mean by approx 57.29% of the mean value.\n",
    "2. Different values for different transactions is present.\n",
    "\n",
    "# WEIGHT:\n",
    "Weights have variation of 0.5760526218094241 among them\n",
    "This implies that ->\n",
    "1. Weights are spread around the mean by approx 57.60% of the mean value.\n",
    "2. Inconsistency in weights are here (which means different weights for different quantities are present)\n",
    "                                      "
   ]
  },
  {
   "cell_type": "code",
   "execution_count": 86,
   "id": "563187bc-9ca7-4eab-b834-d5ffd55f5f13",
   "metadata": {},
   "outputs": [
    {
     "data": {
      "text/plain": [
       "-0.017001610467583167"
      ]
     },
     "execution_count": 86,
     "metadata": {},
     "output_type": "execute_result"
    }
   ],
   "source": [
    "# correlation between quantity and weight\n",
    "non_categorical_df['Quantity'].corr(non_categorical_df['Weight'])"
   ]
  },
  {
   "cell_type": "markdown",
   "id": "eb388e72-277b-4cb3-a5fc-03133334ed3a",
   "metadata": {},
   "source": [
    "# Correlation between Quantities and Weights\n",
    "\n",
    "The correlation between the quantities and the weights is -0.017001610467583167, which indicates a very weak correlation between the two. This suggests that there is almost no linear relationship between quantity and weight. Two possible reasons for this weak correlation might be:\n",
    "\n",
    "In a manufacturing setting, if you measure the weight of products and their quantities, a very weak correlation could indicate that weight doesn’t scale linearly with quantity, possibly due to varying product types, sizes, or materials.\n",
    "\n",
    "For consumer goods where packaging varies, the quantity and weight may not have a strong linear relationship due to differences in packaging materials and product sizes. For instance, lighter products might be packaged in bulk, while heavier ones might come in smaller quantities."
   ]
  },
  {
   "cell_type": "code",
   "execution_count": 89,
   "id": "e9dc4ba3-c6d1-4a87-a9bc-e9639fd46016",
   "metadata": {},
   "outputs": [
    {
     "data": {
      "text/plain": [
       "-0.01662260812409596"
      ]
     },
     "execution_count": 89,
     "metadata": {},
     "output_type": "execute_result"
    }
   ],
   "source": [
    "# correlation between quantity and Value\n",
    "non_categorical_df['Quantity'].corr(non_categorical_df['Value'])"
   ]
  },
  {
   "cell_type": "markdown",
   "id": "e8d18426-0fcd-4220-b68a-810fc6b39fb7",
   "metadata": {},
   "source": [
    "# Correlation between Quantity and Value \n",
    "\n",
    "The correlation is very weakly negative (-0.01662260812409596), indicating that quantity is very weakly inversely correlated with the transaction value. This suggests that as the quantity increases, the transaction value tends to decrease slightly, but the relationship is almost negligible.\n",
    "\n",
    "Several factors could contribute to this weak negative correlation, such as:\n",
    "\n",
    "Market trends: Shifts in supply and demand can impact both quantity and value differently.\n",
    "Discounts and promotions: Larger quantities might be associated with bulk discounts, leading to a decrease in the overall transaction value per unit.\n",
    "Customer demographics: Different customer segments may purchase varying quantities at different price points, leading to a weak and inconsistent relationship between quantity and value."
   ]
  },
  {
   "cell_type": "code",
   "execution_count": 92,
   "id": "8e53b94b-fe5f-4dd2-9a2e-060e460be7c4",
   "metadata": {},
   "outputs": [],
   "source": [
    "import scipy.stats as stats"
   ]
  },
  {
   "cell_type": "code",
   "execution_count": 94,
   "id": "cfd87f6d-f75e-4857-bcc6-c058354ea2df",
   "metadata": {},
   "outputs": [
    {
     "data": {
      "text/plain": [
       "(4842.111109393887, 5090.46460275004)"
      ]
     },
     "execution_count": 94,
     "metadata": {},
     "output_type": "execute_result"
    }
   ],
   "source": [
    "# calculation confidence interval for quantity\n",
    "\n",
    "mean = np.mean(non_categorical_df['Quantity'])\n",
    "std_error = stats.sem(non_categorical_df['Quantity'])\n",
    "\n",
    "confidence = 0.95 # 95% comfidence level\n",
    "margin_of_error = std_error * stats.t.ppf((1 + confidence) / 2., len(non_categorical_df['Quantity']) - 1)\n",
    "confidence_interval = (mean - margin_of_error, mean + margin_of_error)\n",
    "\n",
    "confidence_interval"
   ]
  },
  {
   "cell_type": "markdown",
   "id": "b2e8ad32-0556-4809-8355-3a81cafbf5e3",
   "metadata": {},
   "source": [
    "# Confidence Interval of Quantity\n",
    "This will tells us that the actual average quantity of transactions (including import and export, for the whole dataset) will lie in between (4842.111109393887, 5090.46460275004)\n"
   ]
  },
  {
   "cell_type": "code",
   "execution_count": 97,
   "id": "8bda1bb9-5058-496a-9c3e-cd04f78ebb69",
   "metadata": {},
   "outputs": [
    {
     "data": {
      "text/plain": [
       "(2432.730338161927, 2558.7918807286283)"
      ]
     },
     "execution_count": 97,
     "metadata": {},
     "output_type": "execute_result"
    }
   ],
   "source": [
    "# calculation confidence interval for Weights\n",
    "\n",
    "mean = np.mean(non_categorical_df['Weight'])\n",
    "std_error = stats.sem(non_categorical_df['Weight'])\n",
    "\n",
    "confidence = 0.95 # 95% comfidence level\n",
    "margin_of_error = std_error * stats.t.ppf((1 + confidence) / 2., len(non_categorical_df['Weight']) - 1)\n",
    "confidence_interval = (mean - margin_of_error, mean + margin_of_error)\n",
    "\n",
    "confidence_interval"
   ]
  },
  {
   "cell_type": "markdown",
   "id": "533395e1-79c8-48a6-b8f7-3a2629f17a71",
   "metadata": {},
   "source": [
    "# Confidence Interval of Weight\n",
    "This will tells us that the actual average weight of transactions (including import and export, for the whole dataset) will lie in between (2432.730338161927, 2558.7918807286283)"
   ]
  },
  {
   "cell_type": "code",
   "execution_count": 39,
   "id": "1eef1f23-70b2-43e5-80e3-d718ae24eec2",
   "metadata": {},
   "outputs": [],
   "source": [
    "# <<---------- end of composite measure ------------>>"
   ]
  },
  {
   "cell_type": "markdown",
   "id": "0ad9957e-5eae-4564-a0d6-31408794e8ca",
   "metadata": {},
   "source": [
    "# INFERENTIAL STATISTICS"
   ]
  },
  {
   "cell_type": "markdown",
   "id": "f9a86f34-a17c-496b-a1ca-1e485a3c1e00",
   "metadata": {},
   "source": [
    "# TEST OF MEAN"
   ]
  },
  {
   "cell_type": "markdown",
   "id": "c0c7e61f-65fe-482d-ab6b-bb733cef6316",
   "metadata": {},
   "source": [
    "# T - test\n",
    " As the columns belongs to same dataset and are information about same entity we will\n",
    " perform paired T - test. "
   ]
  },
  {
   "cell_type": "code",
   "execution_count": 102,
   "id": "230f5a4a-6810-484d-a5fc-8dc6245209cd",
   "metadata": {},
   "outputs": [
    {
     "name": "stdout",
     "output_type": "stream",
     "text": [
      "T-Statistic, p_value and df:  TtestResult(statistic=34.555813571800805, pvalue=1.398203593951748e-205, df=2000)\n",
      "Signifiance difference between the means\n"
     ]
    }
   ],
   "source": [
    "# Test on Quantity and Weight\n",
    "t_stats1 = stats.ttest_rel(non_categorical_df['Quantity'], non_categorical_df['Weight'])\n",
    "print('T-Statistic, p_value and df: ', t_stats1)\n",
    "\n",
    "significance_level = 0.05\n",
    "\n",
    "if t_stats1.pvalue < significance_level:\n",
    "    print('Signifiance difference between the means')\n",
    "else:\n",
    "    print('No Signifiance difference between the means')"
   ]
  },
  {
   "cell_type": "code",
   "execution_count": 104,
   "id": "2b2de57e-c181-49b0-8215-fbb0dac51dc6",
   "metadata": {},
   "outputs": [
    {
     "name": "stdout",
     "output_type": "stream",
     "text": [
      "T-Statistic, p_value and df:  TtestResult(statistic=-0.31317396545327486, pvalue=0.7541811512573078, df=2000)\n",
      "No Signifiance difference between the means\n"
     ]
    }
   ],
   "source": [
    "# Test on Quantity and Value\n",
    "t_stats2 = stats.ttest_rel(non_categorical_df['Quantity'], non_categorical_df['Value'])\n",
    "print('T-Statistic, p_value and df: ', t_stats2)\n",
    "\n",
    "\n",
    "significance_level = 0.05\n",
    "\n",
    "if t_stats2.pvalue < significance_level:\n",
    "    print('Signifiance difference between the means')\n",
    "else:\n",
    "    print('No Signifiance difference between the means')"
   ]
  },
  {
   "cell_type": "code",
   "execution_count": 106,
   "id": "f24ca2bf-9205-45ec-8931-aad6bfec7d49",
   "metadata": {},
   "outputs": [
    {
     "name": "stdout",
     "output_type": "stream",
     "text": [
      "T-Statistic, p_value and df:  TtestResult(statistic=-34.591431358901005, pvalue=6.464717360304724e-206, df=2000)\n",
      "Signifiance difference between the means\n"
     ]
    }
   ],
   "source": [
    "# Test on Weight and Value\n",
    "t_stats3 = stats.ttest_rel(non_categorical_df['Weight'], non_categorical_df['Value'])\n",
    "print('T-Statistic, p_value and df: ', t_stats3)\n",
    "\n",
    "\n",
    "significance_level = 0.05\n",
    "\n",
    "if t_stats3.pvalue < significance_level:\n",
    "    print('Signifiance difference between the means')\n",
    "else:\n",
    "    print('No Signifiance difference between the means')"
   ]
  },
  {
   "cell_type": "code",
   "execution_count": 43,
   "id": "d2e4bc89-f088-401f-bd4c-a84df2287fd7",
   "metadata": {},
   "outputs": [],
   "source": [
    "# <<--------- end of test of Mean ------------->>"
   ]
  },
  {
   "cell_type": "markdown",
   "id": "168e8b64-03e9-4679-b6fd-a34b53965991",
   "metadata": {},
   "source": [
    "# Test of variance:\n",
    "\n",
    "1. F - TEST - using test on quantity and weight"
   ]
  },
  {
   "cell_type": "code",
   "execution_count": 108,
   "id": "def0982a-62d0-4971-b82d-c1763eac77da",
   "metadata": {},
   "outputs": [
    {
     "name": "stdout",
     "output_type": "stream",
     "text": [
      "Variance of Quantity :  8022424.771097449\n",
      "Variance of Weight :  2066951.7612022706\n",
      "p_value for 2 tail:  2.22e-16\n",
      "The variances are significantly different\n"
     ]
    }
   ],
   "source": [
    "var_Quantity = np.var(non_categorical_df['Quantity'], ddof = 1)\n",
    "var_Weight = np.var(non_categorical_df['Weight'], ddof = 1)\n",
    "\n",
    "print('Variance of Quantity : ', var_Quantity)\n",
    "print('Variance of Weight : ', var_Weight)\n",
    "\n",
    "F = var_Quantity / var_Weight\n",
    "\n",
    "dof1 = len(non_categorical_df['Quantity']) - 1\n",
    "dof2 = len(non_categorical_df['Weight']) - 1\n",
    "\n",
    "p_value = 1 - stats.f.cdf(F, dof1, dof2) # cdf = cumulative distribution function\n",
    "\n",
    "p_value_2T = np.round(p_value * 2, 18)\n",
    "print(\"p_value for 2 tail: \", p_value_2T)\n",
    "\n",
    "significance_level = 0.05\n",
    "\n",
    "if (p_value_2T < significance_level):\n",
    "    print(\"The variances are significantly different\")\n",
    "\n",
    "else:\n",
    "    print(\"The variances are not significantly different\")"
   ]
  },
  {
   "cell_type": "markdown",
   "id": "7266d9df-9ca6-43a9-8e30-3063f0d8385b",
   "metadata": {},
   "source": [
    "The cause of significantly different could be less variance of weight as comapre to quantity which also implies that weight is small spread around the mean as comapre to quantity.\n"
   ]
  },
  {
   "cell_type": "markdown",
   "id": "1a76051b-64e5-4f51-a43a-137143177e9d",
   "metadata": {},
   "source": [
    "2. LEVENE TEST - using test on quantity and value\n",
    "\n",
    "For this test lets assume that both entities have equal variance"
   ]
  },
  {
   "cell_type": "code",
   "execution_count": 110,
   "id": "d553dbef-aa90-4347-8b56-b62ba3d33eb0",
   "metadata": {},
   "outputs": [
    {
     "name": "stdout",
     "output_type": "stream",
     "text": [
      "levene's test stats:  0.131106195452591\n",
      "p_value:  0.7173069707652631\n",
      "No significant difference between the variances\n"
     ]
    }
   ],
   "source": [
    "stat, p_value = stats.levene(non_categorical_df['Quantity'],non_categorical_df['Value'], center = 'median')\n",
    "print(\"levene's test stats: \", stat)\n",
    "print(\"p_value: \", p_value)\n",
    "\n",
    "significance_level = 0.05\n",
    "\n",
    "if p_value < significance_level:\n",
    "    print('Significant difference between the variances')\n",
    "\n",
    "else:\n",
    "    print('No significant difference between the variances')\n"
   ]
  },
  {
   "cell_type": "markdown",
   "id": "168e6a36-e324-4851-bf6a-6449f009f0de",
   "metadata": {},
   "source": [
    "3. BARTLETT TEST - using on weight and value"
   ]
  },
  {
   "cell_type": "code",
   "execution_count": 112,
   "id": "7e4b5b7e-9e0f-42d4-a29a-883f8f33efa8",
   "metadata": {},
   "outputs": [
    {
     "name": "stdout",
     "output_type": "stream",
     "text": [
      "Bartlett's Test Stats:  880.9694484638354\n",
      "P_Value:  1.3454976974849813e-193\n",
      "Significant difference between the variances\n"
     ]
    }
   ],
   "source": [
    "stat, p_value = stats.bartlett(non_categorical_df['Weight'], non_categorical_df['Value'])\n",
    "print(\"Bartlett's Test Stats: \", stat)\n",
    "print(\"P_Value: \", p_value)\n",
    "\n",
    "significance_level = 0.05\n",
    "\n",
    "if p_value < significance_level:\n",
    "    print('Significant difference between the variances')\n",
    "else:\n",
    "    print('No significant difference between the variances')"
   ]
  },
  {
   "cell_type": "markdown",
   "id": "4e3f5505-2f5a-452f-a926-ae55735930ed",
   "metadata": {},
   "source": [
    "# PERFORMING LEVENE AND BARTLETT TEST ON ALL QUANTITY, VALUE AND WEIGHT"
   ]
  },
  {
   "cell_type": "code",
   "execution_count": 114,
   "id": "5358c066-acfa-4ad3-9a40-a35a9d85e47c",
   "metadata": {},
   "outputs": [
    {
     "name": "stdout",
     "output_type": "stream",
     "text": [
      "levene's test stats:  650.9787716738185\n",
      "p_value:  1.367227547415521e-256\n",
      "Significant difference between the variances\n"
     ]
    }
   ],
   "source": [
    "stat, p_value = stats.levene(non_categorical_df['Quantity'],non_categorical_df['Value'],non_categorical_df['Weight'], center = 'median')\n",
    "print(\"levene's test stats: \", stat)\n",
    "print(\"p_value: \", p_value)\n",
    "\n",
    "significance_level = 0.05\n",
    "\n",
    "if p_value < significance_level:\n",
    "    print('Significant difference between the variances')\n",
    "\n",
    "else:\n",
    "    print('No significant difference between the variances')"
   ]
  },
  {
   "cell_type": "code",
   "execution_count": 116,
   "id": "f7b4015c-588e-4b63-aa74-af426c86a1d0",
   "metadata": {},
   "outputs": [
    {
     "name": "stdout",
     "output_type": "stream",
     "text": [
      "Bartlett's Test Stats:  1367.0284199869438\n",
      "P_Value:  1.424132171517843e-297\n",
      "Significant difference between the variances\n"
     ]
    }
   ],
   "source": [
    "stat, p_value = stats.bartlett(non_categorical_df['Weight'], non_categorical_df['Value'], non_categorical_df['Weight'])\n",
    "print(\"Bartlett's Test Stats: \", stat)\n",
    "print(\"P_Value: \", p_value)\n",
    "\n",
    "significance_level = 0.05\n",
    "\n",
    "if p_value < significance_level:\n",
    "    print('Significant difference between the variances')\n",
    "else:\n",
    "    print('No significant difference between the variances')"
   ]
  },
  {
   "cell_type": "code",
   "execution_count": 49,
   "id": "d6920cdf-c9cb-48d2-a063-dc82f43b8d56",
   "metadata": {},
   "outputs": [],
   "source": [
    "# <<------------------ end of test of Variance --------------->>"
   ]
  },
  {
   "cell_type": "markdown",
   "id": "047286c2-b773-4d00-a376-5ebb6045b729",
   "metadata": {},
   "source": [
    "# Test of PROPORTION"
   ]
  },
  {
   "cell_type": "markdown",
   "id": "f335025b-4c25-4a95-ae3f-f16986334789",
   "metadata": {},
   "source": [
    "# Z - TEST\n",
    "\n",
    "1. QUANTITY - checking proportion of quantity between 0 to 2000"
   ]
  },
  {
   "cell_type": "code",
   "execution_count": 118,
   "id": "9b9fd3c9-fcd7-4f6c-b66f-b67053035c6d",
   "metadata": {},
   "outputs": [
    {
     "name": "stdout",
     "output_type": "stream",
     "text": [
      "Sample proporation:  383\n",
      "Sample size:  2001\n",
      "hypothesized proportion 500\n",
      "Z-stats:  (-6.415861602433796e-16+10.477897148632191j)\n",
      "p_value:  0.0\n",
      "hypothesized proportion is significantly different from the proportion quantity\n"
     ]
    }
   ],
   "source": [
    "Pro_Quantity = 0 # Sample proportion\n",
    "for i in range(len(non_categorical_df['Quantity'])):\n",
    "    n = non_categorical_df['Quantity'].iloc[i]\n",
    "    if (0 <= n <= 2000):\n",
    "        Pro_Quantity += 1\n",
    "    \n",
    "Size_Quantity = len(non_categorical_df['Quantity'])\n",
    "\n",
    "print('Sample proporation: ', Pro_Quantity)\n",
    "print('Sample size: ', Size_Quantity)\n",
    "\n",
    "hypothesize_proportion = 500  # Hypothesized quantity proportion\n",
    "\n",
    "print('hypothesized proportion', hypothesize_proportion)\n",
    "\n",
    "standard_error = (hypothesize_proportion * (1 - hypothesize_proportion) / Size_Quantity) ** 0.5\n",
    "\n",
    "z_stats = (Pro_Quantity - hypothesize_proportion) / standard_error\n",
    "\n",
    "p_value = 2 * (1 - stats.norm.cdf(abs(z_stats)))\n",
    "\n",
    "print('Z-stats: ', z_stats)\n",
    "print('p_value: ', p_value)\n",
    "\n",
    "significance_level = 0.05\n",
    "\n",
    "if p_value < significance_level:\n",
    "    print('hypothesized proportion is significantly different from the proportion quantity')\n",
    "else:\n",
    "    print('hypothesized proportion is not significantly different from the proportion quantity')\n",
    "    "
   ]
  },
  {
   "cell_type": "markdown",
   "id": "4d5abd3a-2f16-4775-a714-520f70f04c9a",
   "metadata": {},
   "source": [
    "2. WEIGHT - checking proportion of weights between 4000 to 4300"
   ]
  },
  {
   "cell_type": "code",
   "execution_count": 120,
   "id": "e04a44e2-298a-4789-85e5-1489c1c0c2b0",
   "metadata": {},
   "outputs": [
    {
     "name": "stdout",
     "output_type": "stream",
     "text": [
      "Sample proporation:  129\n",
      "Sample size:  2001\n",
      "hypothesized proportion 100\n",
      "Z-stats:  (7.983343222007009e-16-13.037788899730636j)\n",
      "p_value:  0.0\n",
      "hypothesized proportion is significantly different from the proportion quantity\n"
     ]
    }
   ],
   "source": [
    "Pro_Weight = 0 # Sample proportion\n",
    "for i in range(len(non_categorical_df['Weight'])):\n",
    "    n = non_categorical_df['Weight'].iloc[i]\n",
    "    if (4000 <= n <= 4300):\n",
    "        Pro_Weight += 1\n",
    "    \n",
    "Size_Weight = len(non_categorical_df['Weight'])\n",
    "\n",
    "print('Sample proporation: ', Pro_Weight)\n",
    "print('Sample size: ', Size_Weight)\n",
    "\n",
    "hypothesize_proportion = 100  # Hypothesized quantity proportion\n",
    "\n",
    "print('hypothesized proportion', hypothesize_proportion)\n",
    "\n",
    "standard_error = (hypothesize_proportion * (1 - hypothesize_proportion) / Size_Weight) ** 0.5\n",
    "\n",
    "z_stats = (Pro_Weight - hypothesize_proportion) / standard_error\n",
    "\n",
    "p_value = 2 * (1 - stats.norm.cdf(abs(z_stats)))\n",
    "\n",
    "print('Z-stats: ', z_stats)\n",
    "print('p_value: ', p_value)\n",
    "\n",
    "significance_level = 0.05\n",
    "\n",
    "if p_value < significance_level:\n",
    "    print('hypothesized proportion is significantly different from the proportion quantity')\n",
    "else:\n",
    "    print('hypothesized proportion is not significantly different from the proportion quantity')\n",
    "    "
   ]
  },
  {
   "cell_type": "markdown",
   "id": "4a0dfc0e-d1cb-4f65-9e76-2a7fc1c1f7a1",
   "metadata": {},
   "source": [
    "3. VALUE - checking proportion of weights between 2600 to 3000"
   ]
  },
  {
   "cell_type": "code",
   "execution_count": 122,
   "id": "81505208-767a-489a-a6ec-ec94cb1b4446",
   "metadata": {},
   "outputs": [
    {
     "name": "stdout",
     "output_type": "stream",
     "text": [
      "Sample proporation:  72\n",
      "Sample size:  2001\n",
      "hypothesized proportion 50\n",
      "Z-stats:  (4.371680852662931e-15-71.39496638061955j)\n",
      "p_value:  0.0\n",
      "hypothesized proportion is significantly different from the proportion quantity\n"
     ]
    }
   ],
   "source": [
    "Pro_Value = 0 # Sample proportion\n",
    "for i in range(len(non_categorical_df['Value'])):\n",
    "    n = non_categorical_df['Value'].iloc[i]\n",
    "    if (2600 <= n <= 3000):\n",
    "        Pro_Value += 1\n",
    "    \n",
    "Size_Value = len(non_categorical_df['Value'])\n",
    "\n",
    "print('Sample proporation: ', Pro_Value)\n",
    "print('Sample size: ', Size_Value)\n",
    "\n",
    "hypothesize_proportion = 50  # Hypothesized quantity proportion\n",
    "\n",
    "print('hypothesized proportion', hypothesize_proportion)\n",
    "\n",
    "standard_error = (hypothesize_proportion * (1 - hypothesize_proportion) / Size_Value) ** 0.5\n",
    "\n",
    "z_stats = (Pro_Weight - hypothesize_proportion) / standard_error\n",
    "\n",
    "p_value = 2 * (1 - stats.norm.cdf(abs(z_stats)))\n",
    "\n",
    "print('Z-stats: ', z_stats)\n",
    "print('p_value: ', p_value)\n",
    "\n",
    "significance_level = 0.05\n",
    "\n",
    "if p_value < significance_level:\n",
    "    print('hypothesized proportion is significantly different from the proportion quantity')\n",
    "else:\n",
    "    print('hypothesized proportion is not significantly different from the proportion quantity')\n",
    "    "
   ]
  },
  {
   "cell_type": "markdown",
   "id": "99b4a9f0-fd24-4d24-84df-ab5bd8898ece",
   "metadata": {},
   "source": [
    "In the above 3 z-test for Quantities, Weights and Values we have assumed some hypothesized proportion and checked if the actual sample proportion matches to it or not.\n",
    "this help to check assuptions about the same.\n",
    "    "
   ]
  },
  {
   "cell_type": "markdown",
   "id": "4eb26507-4d02-4a5d-a4fa-78581ce094e5",
   "metadata": {},
   "source": [
    "# chi - sq test"
   ]
  },
  {
   "cell_type": "code",
   "execution_count": 124,
   "id": "04a33a32-4591-401b-86e8-f56b2d48e95f",
   "metadata": {},
   "outputs": [
    {
     "name": "stdout",
     "output_type": "stream",
     "text": [
      "chi_stats:  5784124.287928179\n",
      "p_value:  0.0\n",
      "Significant difference in proportions between the samples\n"
     ]
    }
   ],
   "source": [
    "data = np.array([[non_categorical_df['Quantity']],\n",
    "                [non_categorical_df['Weight']],\n",
    "                [non_categorical_df['Value']]])\n",
    "chi_stats, p_Value,_,_ = stats.chi2_contingency(data, correction = False)\n",
    "\n",
    "print('chi_stats: ', chi_stats)\n",
    "print('p_value: ', p_value)\n",
    "\n",
    "significance_level = 0.05\n",
    "\n",
    "if p_value < significance_level:\n",
    "    print(\"Significant difference in proportions between the samples\")\n",
    "\n",
    "else:\n",
    "    print(\"No significant difference in proportions between the samples\")"
   ]
  },
  {
   "cell_type": "code",
   "execution_count": 54,
   "id": "184d4568-39ef-4167-9eb1-399c8fbc4b6c",
   "metadata": {},
   "outputs": [],
   "source": [
    "# <<---------- end of test of proportion ---------------->>"
   ]
  },
  {
   "cell_type": "markdown",
   "id": "d8f765bc-4937-4230-b894-247bb67e27b3",
   "metadata": {},
   "source": [
    "# TEST OF CORRELATION"
   ]
  },
  {
   "cell_type": "markdown",
   "id": "8c8b1a8f-d6a0-4698-81ef-5f869bc69d08",
   "metadata": {},
   "source": [
    "# T - TEST "
   ]
  },
  {
   "cell_type": "markdown",
   "id": "032916b5-af03-40f5-8333-7898c47a9469",
   "metadata": {},
   "source": [
    "# TEST OF NORMALITY"
   ]
  },
  {
   "cell_type": "markdown",
   "id": "5ba10e34-eb5c-4539-b152-1e316a3eba25",
   "metadata": {},
   "source": [
    "# 1. Shapiro-Wilk Test"
   ]
  },
  {
   "cell_type": "code",
   "execution_count": 126,
   "id": "2a592aab-e4c7-4ac8-ba4f-a05490c7fe12",
   "metadata": {},
   "outputs": [
    {
     "name": "stdout",
     "output_type": "stream",
     "text": [
      "Shapiro-wilk Test for:  Quantity\n",
      "Test stats:  0.956973773882756  and p-value:  7.286724918217466e-24\n",
      "Reject (sample does not appear to be normally distributed)\n",
      "\n",
      "\n",
      "Shapiro-wilk Test for:  Weight\n",
      "Test stats:  0.9559852837350468  and p-value:  4.057927418637715e-24\n",
      "Reject (sample does not appear to be normally distributed)\n",
      "\n",
      "\n",
      "Shapiro-wilk Test for:  Value\n",
      "Test stats:  0.9540637995865662  and p-value:  1.3370979828991994e-24\n",
      "Reject (sample does not appear to be normally distributed)\n"
     ]
    }
   ],
   "source": [
    "def shapiro_test(sample, name):\n",
    "    stat, p_value = stats.shapiro(sample)\n",
    "    print(\"Shapiro-wilk Test for: \", name)\n",
    "    print(\"Test stats: \", stat, \" and p-value: \", p_value)\n",
    "\n",
    "    significance_level = 0.05\n",
    "    if p_value > significance_level:\n",
    "        print(\"Fail to reject (sample is consistent with normality)\")\n",
    "    else:\n",
    "        print(\"Reject (sample does not appear to be normally distributed)\")\n",
    "\n",
    "\n",
    "shapiro_test(non_categorical_df['Quantity'], \"Quantity\")\n",
    "print(\"\\n\")\n",
    "shapiro_test(non_categorical_df['Weight'], \"Weight\")\n",
    "print(\"\\n\")\n",
    "shapiro_test(non_categorical_df['Value'], \"Value\")\n"
   ]
  },
  {
   "cell_type": "markdown",
   "id": "02f5c172-64a8-4667-b0be-cb5f6c10df52",
   "metadata": {},
   "source": [
    "From the results of the Shapiro-Wilk tests, we can conclude that none of the three samples (Quantity, Weight, and Value) appear to follow a normal distribution, as indicated by their p-values being extremely small and the test statistics being significantly below 1. This suggests that the data may exhibit asymmetry and could follow other types of distributions, such as exponential, log-normal, or another non-normal distribution. It would be prudent to perform additional tests or use graphical methods to explore and confirm the underlying distribution of these samples."
   ]
  },
  {
   "cell_type": "markdown",
   "id": "1d3d44c7-dd0f-46dd-9c6c-b976a952e8db",
   "metadata": {},
   "source": [
    "<span style=\"font-weight: bold; font-size: 30px\">2. Kolmogorov-Smirnov Test</span>"
   ]
  },
  {
   "cell_type": "markdown",
   "id": "df762ed6-68f1-47fe-a043-5d43e39a187d",
   "metadata": {},
   "source": [
    "Now as the above test gives us the result that they do not belong to normal distribution, let's first check weather they are from same distribution or not."
   ]
  },
  {
   "cell_type": "code",
   "execution_count": 129,
   "id": "0357027c-8ef2-4f63-8671-97050d79ee8a",
   "metadata": {},
   "outputs": [
    {
     "name": "stdout",
     "output_type": "stream",
     "text": [
      "Quantity and Weight test stats:  0.5007496251874063 p-value:  1.949700750734167e-228\n",
      "Weight and Value test stats:  0.4947526236881559 p-value:  9.605514204832333e-223\n",
      "Value and Quantity test stats:  0.026486756621689155 p-value:  0.48414714284697247\n",
      "\n",
      "\n",
      "Quantity and Weight are from different distribution (rejected)\n",
      "\n",
      "\n",
      "Weight and Value are from different distribution (rejected)\n",
      "\n",
      "\n",
      "Value and Quantity are from same distribution (fail to reject)\n"
     ]
    }
   ],
   "source": [
    "# performing K-S test\n",
    "statQ_W, p_valueQ_W = stats.ks_2samp(non_categorical_df['Quantity'], non_categorical_df['Weight'])\n",
    "statW_V, p_valueW_V = stats.ks_2samp(non_categorical_df['Weight'], non_categorical_df['Value'])\n",
    "statV_Q, p_valueV_Q = stats.ks_2samp(non_categorical_df['Value'], non_categorical_df['Quantity'])\n",
    "\n",
    "print('Quantity and Weight test stats: ', statQ_W, 'p-value: ', p_valueQ_W)\n",
    "print('Weight and Value test stats: ', statW_V, 'p-value: ', p_valueW_V)\n",
    "print('Value and Quantity test stats: ', statV_Q, 'p-value: ', p_valueV_Q)\n",
    "\n",
    "significance_level = 0.05\n",
    "print('\\n')\n",
    "\n",
    "if p_valueQ_W > significance_level:\n",
    "    print(\"Quantity and Weight are from same distribution (fail to reject)\")\n",
    "else:\n",
    "    print(\"Quantity and Weight are from different distribution (rejected)\")\n",
    "\n",
    "print('\\n')\n",
    "\n",
    "if p_valueW_V > significance_level:\n",
    "    print(\"Weight and Value are from same distribution (fail to reject)\")\n",
    "else:\n",
    "    print(\"Weight and Value are from different distribution (rejected)\")\n",
    "\n",
    "print('\\n')\n",
    "\n",
    "if p_valueV_Q > significance_level:\n",
    "    print(\"Value and Quantity are from same distribution (fail to reject)\")\n",
    "else:\n",
    "    print(\"Value and Quantity are from different distribution (rejected)\")\n"
   ]
  },
  {
   "cell_type": "markdown",
   "id": "2a5c0c29-0d7f-49c9-8bfa-149c6d6b5adf",
   "metadata": {},
   "source": [
    "Apart from Value and Quantity, they all neither normally distributed nor belongs to same distribution"
   ]
  },
  {
   "cell_type": "code",
   "execution_count": 131,
   "id": "75796499-1fd1-4d61-9ab1-3a7710ee27cf",
   "metadata": {},
   "outputs": [
    {
     "data": {
      "image/png": "[encoded data removed]",
      "text/plain": [
       "<Figure size 640x480 with 1 Axes>"
      ]
     },
     "metadata": {},
     "output_type": "display_data"
    }
   ],
   "source": [
    "import matplotlib.pyplot as plt\n",
    "import seaborn as sns\n",
    "import numpy as np\n",
    "\n",
    "sns.histplot(non_categorical_df['Quantity'], kde = True, color = 'blue')\n",
    "plt.title('Distribution with Density Curve', fontsize=15)\n",
    "plt.xlabel('Data Values')\n",
    "plt.ylabel('Frequency')\n",
    "\n",
    "# Show the plot\n",
    "plt.show()"
   ]
  },
  {
   "cell_type": "code",
   "execution_count": 133,
   "id": "4c28d7ea-0156-4472-8388-acf38c8a1934",
   "metadata": {},
   "outputs": [
    {
     "data": {
      "image/png": "[encoded data removed]",
      "text/plain": [
       "<Figure size 640x480 with 1 Axes>"
      ]
     },
     "metadata": {},
     "output_type": "display_data"
    }
   ],
   "source": [
    "sns.histplot(non_categorical_df['Weight'], kde = True, color = 'red')\n",
    "plt.title('Distribution with Density Curve', fontsize=15)\n",
    "plt.xlabel('Data Values')\n",
    "plt.ylabel('Frequency')\n",
    "\n",
    "# Show the plot\n",
    "plt.show()"
   ]
  },
  {
   "cell_type": "code",
   "execution_count": 135,
   "id": "729a1092-4540-4e2c-bba5-0cc234907dee",
   "metadata": {},
   "outputs": [
    {
     "data": {
      "image/png": "[encoded data removed]",
      "text/plain": [
       "<Figure size 640x480 with 1 Axes>"
      ]
     },
     "metadata": {},
     "output_type": "display_data"
    }
   ],
   "source": [
    "sns.histplot(non_categorical_df['Value'], kde = True, color = 'blue')\n",
    "plt.title('Distribution with Density Curve', fontsize=15)\n",
    "plt.xlabel('Data Values')\n",
    "plt.ylabel('Frequency')\n",
    "\n",
    "# Show the plot\n",
    "plt.show()"
   ]
  },
  {
   "cell_type": "markdown",
   "id": "e0f71426",
   "metadata": {},
   "source": [
    "## Regression"
   ]
  },
  {
   "cell_type": "markdown",
   "id": "68dda9d1",
   "metadata": {},
   "source": [
    "### Second-Degree Polynomial Regression"
   ]
  },
  {
   "cell_type": "code",
   "execution_count": 137,
   "id": "65947ed6",
   "metadata": {},
   "outputs": [
    {
     "name": "stdout",
     "output_type": "stream",
     "text": [
      "[ 0.00000000e+00 -2.71470672e-02  1.46686309e-06]\n",
      "2622.226154775345\n"
     ]
    }
   ],
   "source": [
    "#Second-Degree Polynomial Regression (Imports)Predict Weight based on Value for Import transactions               \n",
    "import numpy as np\n",
    "import pandas as pd\n",
    "from sklearn.preprocessing import PolynomialFeatures\n",
    "from sklearn.linear_model import LinearRegression\n",
    "\n",
    "# Filter for Import transactions\n",
    "df_imports = sample[sample['Import_Export'] == 'Import']  # Adjust condition based on your column\n",
    "\n",
    "# Define dependent and independent variables\n",
    "X = df_imports[['Quantity']]  # Replace with actual column name\n",
    "y = df_imports['Weight']  # Replace with actual column name\n",
    "\n",
    "# Transform the input for a polynomial regression (second degree)\n",
    "poly = PolynomialFeatures(degree=2)\n",
    "X_poly = poly.fit_transform(X)\n",
    "#Second-Degree Polynomial Regression (Imports)Predict Weight based on Value for Import transactions.\n",
    "# Fit the polynomial regression model\n",
    "model = LinearRegression()\n",
    "model.fit(X_poly, y)\n",
    "\n",
    "# Output the model coefficients\n",
    "print(model.coef_)\n",
    "print(model.intercept_)"
   ]
  },
  {
   "cell_type": "markdown",
   "id": "a859985b",
   "metadata": {},
   "source": [
    "#### Interpretation:\n",
    "\n",
    "Intercept:\n",
    "\n",
    "The intercept of 2622.226154775345 represents the estimated Weight when Quantity is zero. This is the baseline Weight when the effect of Quantity is not considered.\n",
    "\n",
    "**Coefficients:**\n",
    "\n",
    "Linear Term Coefficient (-0.0271): This coefficient indicates a very slight negative relationship between Quantity and Weight. As Quantity increases, the Weight is predicted to decrease slightly. The magnitude of the effect is very small, suggesting that the linear effect of Quantity on Weight is minimal.\n",
    "Quadratic Term Coefficient (0.00000147): This positive coefficient for the quadratic term implies that there is a very small curvature in the relationship between Quantity and Weight. The positive coefficient suggests that the rate of decrease in Weight slows down as Quantity increases, introducing a slight curvature to the relationship.\n",
    "Analysis:\n",
    "\n",
    "The polynomial regression model shows that while there is a very weak linear and quadratic relationship between Quantity and Weight for Import transactions, the impact of these terms is minimal due to the small magnitude of the coefficients.\n",
    "The negative linear term suggests that initially, an increase in Quantity might slightly decrease the Weight, but this effect is very minor.\n",
    "The positive quadratic term indicates that as Quantity increases further, the effect of Quantity on Weight becomes less negative, suggesting that the decrease in Weight becomes less pronounced at higher quantities.\n",
    "Given the small magnitude of the coefficients, the polynomial model does not show a strong non-linear relationship between Quantity and Weight. The relationship is weak and may not have substantial practical implications.\n",
    "\n",
    "**Conclusion:**\n",
    "\n",
    "The second-degree polynomial regression model indicates a very weak non-linear relationship between Quantity and Weight for Import transactions. The coefficients suggest that the effect of Quantity on Weight is minimal, with only minor variations introduced by the quadratic term. This analysis implies that other factors may be influencing Weight more significantly than Quantity, or that the relationship between these variables is inherently weak.\n",
    "\n"
   ]
  },
  {
   "cell_type": "markdown",
   "id": "8df142fe",
   "metadata": {},
   "source": [
    "### Logisitic Regression"
   ]
  },
  {
   "cell_type": "code",
   "execution_count": 142,
   "id": "e111a4c7",
   "metadata": {},
   "outputs": [
    {
     "name": "stdout",
     "output_type": "stream",
     "text": [
      "              precision    recall  f1-score   support\n",
      "\n",
      "      Export       0.54      0.47      0.51       198\n",
      "      Import       0.54      0.61      0.58       203\n",
      "\n",
      "    accuracy                           0.54       401\n",
      "   macro avg       0.54      0.54      0.54       401\n",
      "weighted avg       0.54      0.54      0.54       401\n",
      "\n"
     ]
    }
   ],
   "source": [
    "#Logistic Regression-Predict whether a transaction is Import or Export based on Value and Weight.\n",
    "import pandas as pd\n",
    "from sklearn.linear_model import LogisticRegression\n",
    "from sklearn.model_selection import train_test_split\n",
    "from sklearn.metrics import classification_report\n",
    "\n",
    "# Define dependent and independent variables\n",
    "X = sample[['Value', 'Weight']]  # Use 'sample' as the DataFrame variable name\n",
    "y = sample['Import_Export']  # Ensure 'Import_Export' contains binary values\n",
    "\n",
    "# Split the data into training and testing sets\n",
    "X_train, X_test, y_train, y_test = train_test_split(X, y, test_size=0.2, random_state=42)\n",
    "\n",
    "# Fit the logistic regression model\n",
    "model = LogisticRegression()\n",
    "model.fit(X_train, y_train)\n",
    "\n",
    "# Predicting and evaluating the model\n",
    "y_pred = model.predict(X_test)\n",
    "print(classification_report(y_test, y_pred))"
   ]
  },
  {
   "cell_type": "markdown",
   "id": "8512e849",
   "metadata": {},
   "source": [
    "#### Model Evaluation Metrics:\n",
    "\n",
    "Precision: The proportion of positive identifications that were actually correct.\n",
    "\n",
    "Recall: The proportion of actual positives that were correctly identified.\n",
    "\n",
    "F1-Score: The harmonic mean of precision and recall, providing a single metric that balances both.\n",
    "\n",
    "Support: The number of actual occurrences of the class in the specified dataset.\n",
    "\n",
    "\n",
    "#### Classification Report Summary:\n",
    "\n",
    "#### Export Transactions:\n",
    "\n",
    "Precision: 0.54\n",
    "Indicates that 54% of the transactions predicted as Export were correctly identified. This suggests a moderate level of accuracy in identifying Export transactions.\n",
    "\n",
    "Recall: 0.47\n",
    "Indicates that only 47% of the actual Export transactions were correctly identified. This shows that the model has a low recall for Export transactions, meaning many actual Export transactions are missed.\n",
    "\n",
    "F1-Score: 0.51\n",
    "This combines precision and recall into a single metric. The low F1-score reflects the challenges in balancing precision and recall for Export transactions.\n",
    "\n",
    "Support: 198\n",
    "The number of actual Export transactions in the dataset.\n",
    "\n",
    "#### Import Transactions:\n",
    "\n",
    "Precision: 0.54\n",
    "Indicates that 54% of the transactions predicted as Import were correctly identified. This reflects a somewhat lower accuracy in predicting Import transactions.\n",
    "\n",
    "Recall: 0.61\n",
    "Indicates that 61% of the actual Import transactions were correctly identified. This shows that the model is relatively better \n",
    "at identifying Import transactions compared to Export transactions.\n",
    "\n",
    "F1-Score: 0.58\n",
    "The F1-score is higher for Import transactions, indicating a better balance of precision and recall compared to Export transactions.\n",
    "\n",
    "Support: 203\n",
    "The number of actual Import transactions in the dataset.\n",
    "Overall Model Performance:\n",
    "\n",
    "Accuracy: 0.54\n",
    "The overall accuracy of the model is 54%, meaning the model correctly predicts the transaction type 54% of the time. This suggests that the model has limited predictive power and is not performing well overall.\n",
    "\n",
    "\n",
    "#### Macro Average:\n",
    "\n",
    "Precision: 0.54\n",
    "\n",
    "Recall: 0.54\n",
    "\n",
    "F1-Score: 0.54\n",
    "\n",
    "The macro averages provide an overall performance measure without considering class imbalance. The model's performance is relatively balanced across classes, but still modest.\n",
    "\n",
    "\n",
    "##### Weighted Average:\n",
    "\n",
    "Precision: 0.54\n",
    "\n",
    "Recall: 0.54\n",
    "\n",
    "F1-Score: 0.54\n",
    "\n",
    "The weighted averages consider the support for each class. The performance metrics are slightly lower compared to macro averages, reflecting the impact of class imbalance on the model's overall performance.\n",
    "\n",
    "\n",
    "#### Conclusion:\n",
    "\n",
    "The logistic regression model exhibits moderate performance with significant room for improvement. It struggles particularly with correctly identifying Export transactions, as evidenced by the low precision and recall for this class. While it performs better in identifying Import transactions, the overall accuracy of 45% suggests that the model is not highly effective in distinguishing between Import and Export transactions."
   ]
  },
  {
   "cell_type": "markdown",
   "id": "e41070ba",
   "metadata": {},
   "source": [
    "### Cross-sectional Polynomial Regression"
   ]
  },
  {
   "cell_type": "code",
   "execution_count": 145,
   "id": "cabf327c",
   "metadata": {},
   "outputs": [
    {
     "name": "stdout",
     "output_type": "stream",
     "text": [
      "[ 0.00000000e+00  8.11357024e-01 -7.71575299e-05]\n",
      "3669.5863609424655\n"
     ]
    }
   ],
   "source": [
    "#Cross-sectional Polynomial Regression (Top 5 Countries) - Model the relationship between Value and Quantity for transactions from the top 5 countries.\n",
    "import pandas as pd\n",
    "from sklearn.preprocessing import PolynomialFeatures\n",
    "from sklearn.linear_model import LinearRegression\n",
    "\n",
    "# Get the top 5 countries based on transaction count\n",
    "top_countries = sample['Country'].value_counts().head(5).index\n",
    "df_top = sample[sample['Country'].isin(top_countries)]\n",
    "\n",
    "# Define dependent and independent variables\n",
    "X = df_top[['Quantity']]  # Replace with actual column name\n",
    "y = df_top['Value']  # Replace with actual column name\n",
    "\n",
    "# Transform the input for a polynomial regression (second degree)\n",
    "poly = PolynomialFeatures(degree=2)\n",
    "X_poly = poly.fit_transform(X)\n",
    "\n",
    "# Fit the polynomial regression model\n",
    "model = LinearRegression()\n",
    "model.fit(X_poly, y)\n",
    "\n",
    "# Output the model coefficients\n",
    "print(model.coef_)\n",
    "print(model.intercept_)"
   ]
  }
 ],
 "metadata": {
  "kernelspec": {
   "display_name": "Python 3 (ipykernel)",
   "language": "python",
   "name": "python3"
  },
  "language_info": {
   "codemirror_mode": {
    "name": "ipython",
    "version": 3
   },
   "file_extension": ".py",
   "mimetype": "text/x-python",
   "name": "python",
   "nbconvert_exporter": "python",
   "pygments_lexer": "ipython3",
   "version": "3.12.4"
  }
 },
 "nbformat": 4,
 "nbformat_minor": 5
}
